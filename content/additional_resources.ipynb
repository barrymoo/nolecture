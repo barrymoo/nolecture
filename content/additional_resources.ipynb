{
 "cells": [
  {
   "cell_type": "markdown",
   "metadata": {},
   "source": [
    "Additional Resources\n",
    "---\n",
    "\n",
    "1. Me! Don't hesitate to email me (bmooreii@pitt.edu) and we can make an appointment\n",
    "2. This workshop is losely modeled after [World Wind Tour](http://nbviewer.jupyter.org/github/jakevdp/WhirlwindTourOfPython/blob/master/Index.ipynb)\n",
    "3. [Stack Overflow](https://stackoverflow.com). If you \"Google it\" it is probably coming from Stack Overlow. Pro tip, search for: `python <search phrase>`\n",
    "\n",
    "#### [Python Docs](https://docs.python.org/3/library/index.html)\n",
    "\n",
    "#### Useful Python Packages\n",
    "\n",
    "1. [docopt](http://docopt.org) - command line arguments (not helpful in a Jupyter Notebook)\n",
    "2. [pandas](http://pandas.pydata.org) - great for processing data\n",
    "3. [matplotlib](https://matplotlib.org) - plotting tool, can view inside Jupyter Notebooks!\n",
    "4. [requests](http://docs.python-requests.org/en/master) - HTTP Requests\n",
    "5. [numba](https://numba.pydata.org) - just-in-time compilation for Python\n",
    "6. [subprocess](https://docs.python.org/3/library/subprocess.html) - run external commands"
   ]
  }
 ],
 "metadata": {
  "kernelspec": {
   "display_name": "Python 3",
   "language": "python",
   "name": "python3"
  },
  "language_info": {
   "codemirror_mode": {
    "name": "ipython",
    "version": 3
   },
   "file_extension": ".py",
   "mimetype": "text/x-python",
   "name": "python",
   "nbconvert_exporter": "python",
   "pygments_lexer": "ipython3",
   "version": "3.6.6"
  }
 },
 "nbformat": 4,
 "nbformat_minor": 2
}
