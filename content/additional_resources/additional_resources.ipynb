{
 "cells": [
  {
   "cell_type": "markdown",
   "metadata": {},
   "source": [
    "Additional Resources\n",
    "---\n",
    "\n",
    "1. Me! Don't hesitate to email me (bmooreii@pitt.edu) and we can make an appointment\n",
    "2. If you want to install Python and Jupyter on your own machine\n",
    "    - Check out [Anaconda](https://www.anaconda.com/download)\n",
    "        - It is easy to install and includes Jupyter\n",
    "3. This workshop is loosely modeled after [World Wind Tour](http://nbviewer.jupyter.org/github/jakevdp/WhirlwindTourOfPython/blob/master/Index.ipynb)\n",
    "4. [Stack Overflow](https://stackoverflow.com). If you \"Google it\" it will probably come from Stack Overlow.\n",
    "    - Pro tip, search for: `python <search phrase>`\n",
    "    - As you get better you will easily be able to filter good answers from poor ones\n",
    "\n",
    "#### [Python Documentation](https://docs.python.org/3/library/index.html)\n",
    "\n",
    "#### [Python Built-in Functions](https://docs.python.org/3/library/functions.html)\n",
    "\n",
    "#### Notable Python Libraries\n",
    "\n",
    "1. [docopt](http://docopt.org) - command line arguments (not helpful in a Jupyter Notebook)\n",
    "2. [pandas](http://pandas.pydata.org) - great for processing data\n",
    "3. [matplotlib](https://matplotlib.org) - plotting tool, can view inside Jupyter Notebooks!\n",
    "4. [requests](http://docs.python-requests.org/en/master) - HTTP Requests\n",
    "5. [numba](https://numba.pydata.org) - just-in-time compilation for Python (make your code run faster)\n",
    "6. [subprocess](https://docs.python.org/3/library/subprocess.html) - run external commands\n",
    "7. [numpy](https://docs.scipy.org/doc/numpy/dev/) - great array package for doing math\n",
    "8. [sympy](https://docs.sympy.org/latest/index.html) - symbolic math\n",
    "9. [scikit-learn](http://scikit-learn.org/stable/documentation.html) - machine learning package\n",
    "10. [dataset](https://dataset.readthedocs.io/en/latest/) - deal with SQL databases as if they were dictionaries\n",
    "\n",
    "#### Useful Books\n",
    "\n",
    "- [Python Data Science Handbook](https://jakevdp.github.io/PythonDataScienceHandbook/) - Free! If you don't mind reading online\n",
    "- [Hands on Machine Learning with Scikit-learn and Tensorflow](https://www.amazon.com/Hands-Machine-Learning-Scikit-Learn-TensorFlow/dp/1491962291) - Great for machine learning and data science\n",
    "    - I own this book if you want to borrow it"
   ]
  }
 ],
 "metadata": {
  "kernelspec": {
   "display_name": "Python 3",
   "language": "python",
   "name": "python3"
  },
  "language_info": {
   "codemirror_mode": {
    "name": "ipython",
    "version": 3
   },
   "file_extension": ".py",
   "mimetype": "text/x-python",
   "name": "python",
   "nbconvert_exporter": "python",
   "pygments_lexer": "ipython3",
   "version": "3.7.0"
  }
 },
 "nbformat": 4,
 "nbformat_minor": 2
}
