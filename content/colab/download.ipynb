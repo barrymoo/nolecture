{
 "cells": [
  {
   "cell_type": "markdown",
   "metadata": {},
   "source": [
    "Initial Setup\n",
    "---\n",
    "\n",
    "- Navigate to https://github.com/barrymoo/nolecture-notebooks\n",
    "- Click \"Open in Collab\" at bottom\n",
    "- Select the Colab.ipynb\n",
    "- Click on cells below and press play button\n",
    "    - Select \"RUN ANYWAY\""
   ]
  },
  {
   "cell_type": "code",
   "execution_count": null,
   "metadata": {},
   "outputs": [],
   "source": [
    "%%bash\n",
    "for file in 311.csv Introduction.ipynb Pandas.ipynb data.csv example.bsv requirements.txt status.csv trees.csv; do\n",
    "  wget https://raw.githubusercontent.com/barrymoo/nolecture-notebooks/master/$file\n",
    "done"
   ]
  },
  {
   "cell_type": "code",
   "execution_count": null,
   "metadata": {},
   "outputs": [],
   "source": [
    "%pip install -r requirements.txt"
   ]
  },
  {
   "cell_type": "markdown",
   "metadata": {},
   "source": [
    "- Click \"RESTART RUNTIME\" above\n",
    "- Open the file browser (greater-than sign, top left)\n",
    "- Select \"Files\" (top right of file browser)\n",
    "- Double click Introduction.ipynb"
   ]
  }
 ],
 "metadata": {
  "kernelspec": {
   "display_name": "Python 3",
   "language": "python",
   "name": "python3"
  },
  "language_info": {
   "codemirror_mode": {
    "name": "ipython",
    "version": 3
   },
   "file_extension": ".py",
   "mimetype": "text/x-python",
   "name": "python",
   "nbconvert_exporter": "python",
   "pygments_lexer": "ipython3",
   "version": "3.7.3"
  }
 },
 "nbformat": 4,
 "nbformat_minor": 2
}
