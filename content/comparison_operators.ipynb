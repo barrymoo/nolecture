{
 "cells": [
  {
   "cell_type": "markdown",
   "metadata": {},
   "source": [
    "Comparison Operators\n",
    "---\n",
    "\n",
    "- Comparison operators return Boolean values, i.e. `True` or `False`\n",
    "    - `a == b`: `a` equals `b`?\n",
    "    - `a != b`: `a` not equals `b`?\n",
    "    - `a >= b`: `a` greater than or equals `b`?\n",
    "    - `a < b`: `a` less than `b`?\n",
    "    \n",
    "#### Tasks\n",
    "\n",
    "Given, \"2 less than or equal to 1\" the corresponding code would be `2 <= 1`.\n",
    "\n",
    "1. Try to convert the following:\n",
    "    - 4 not equal 3\n",
    "    - 25 is odd (hint: what's 25 % 2, how about 20 % 2)\n",
    "    - 16 is not odd\n",
    "    - 13 is not even\n",
    "    - 20 is between 10 and 30"
   ]
  },
  {
   "cell_type": "code",
   "execution_count": null,
   "metadata": {},
   "outputs": [],
   "source": []
  },
  {
   "cell_type": "code",
   "execution_count": null,
   "metadata": {},
   "outputs": [],
   "source": []
  },
  {
   "cell_type": "code",
   "execution_count": null,
   "metadata": {},
   "outputs": [],
   "source": []
  },
  {
   "cell_type": "code",
   "execution_count": null,
   "metadata": {},
   "outputs": [],
   "source": []
  },
  {
   "cell_type": "code",
   "execution_count": null,
   "metadata": {},
   "outputs": [],
   "source": []
  }
 ],
 "metadata": {
  "kernelspec": {
   "display_name": "Python 3",
   "language": "python",
   "name": "python3"
  },
  "language_info": {
   "codemirror_mode": {
    "name": "ipython",
    "version": 3
   },
   "file_extension": ".py",
   "mimetype": "text/x-python",
   "name": "python",
   "nbconvert_exporter": "python",
   "pygments_lexer": "ipython3",
   "version": "3.6.6"
  }
 },
 "nbformat": 4,
 "nbformat_minor": 2
}
