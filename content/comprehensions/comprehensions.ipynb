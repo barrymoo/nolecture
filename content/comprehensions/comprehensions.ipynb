{
 "cells": [
  {
   "cell_type": "markdown",
   "metadata": {},
   "source": [
    "Comprehensions\n",
    "---\n",
    "\n",
    "In \"2.\" of the previous question we had to build a list prior to the loop. We could have also used `c = []` and `c.append(x + y)`, but note that `append` is an extremely slow function. Python also provides some syntactic sugar for this case, e.g.\n",
    "\n",
    "```python\n",
    "a = [1, 2, 3]\n",
    "b = [3, 4, 5]\n",
    "c = [x + y for x, y in zip(a, b)]\n",
    "```\n",
    "\n",
    "This is extremely terse and readable. This is called a \"List Comprehension\" and is probably my favorite Python feature. You can also append filter clauses! e.g.\n",
    "\n",
    "```python\n",
    "a = [1, 2, 3]\n",
    "b = [3, 4, 5]\n",
    "c = [x + y for x, y in zip(a, b) if x % 2 == 0]\n",
    "```\n",
    "\n",
    "There are also dictionary comprehensions! e.g.\n",
    "\n",
    "```python\n",
    "values_dict = {'one': 1, 'three': 3, 'five': 5}\n",
    "squares_dict = {k: v ** 2 for k, v in values_dict.items()}\n",
    "\n",
    "# or\n",
    "\n",
    "songs = [\"Tom Sawyer\", \"Money\", \"Simple Man\"]\n",
    "artists = [\"Rush\", \"Pink Floyd\", \"Lynyrd Skynyrd\"]\n",
    "songs_dict = {k: v for k, v in zip(artists, songs)}\n",
    "```\n",
    "\n",
    "#### Tasks\n",
    "\n",
    "1. Using the `songs` and `artists`, create the following dictionaries:\n",
    "    - keys: songs, values: artists, only if the artist has an `n` in the name\n",
    "2. Create a list that contains the cubes divided by the squares in the range [1, 10) only if the division is divisible by 2\n",
    "    - Note: you likely already have `square` and `cube` defined as anonymous functions!\n",
    "    - Predefine the range! i.e. `vals = range(<something>)`\n",
    "3. What function would you need to make \"2.\" a dictionary with the index as the key? You are welcome to try this, but the hard work is already done :)"
   ]
  },
  {
   "cell_type": "code",
   "execution_count": null,
   "metadata": {},
   "outputs": [],
   "source": []
  },
  {
   "cell_type": "code",
   "execution_count": null,
   "metadata": {},
   "outputs": [],
   "source": []
  },
  {
   "cell_type": "code",
   "execution_count": null,
   "metadata": {},
   "outputs": [],
   "source": []
  },
  {
   "cell_type": "code",
   "execution_count": null,
   "metadata": {},
   "outputs": [],
   "source": []
  }
 ],
 "metadata": {
  "kernelspec": {
   "display_name": "Python 3",
   "language": "python",
   "name": "python3"
  },
  "language_info": {
   "codemirror_mode": {
    "name": "ipython",
    "version": 3
   },
   "file_extension": ".py",
   "mimetype": "text/x-python",
   "name": "python",
   "nbconvert_exporter": "python",
   "pygments_lexer": "ipython3",
   "version": "3.6.6"
  }
 },
 "nbformat": 4,
 "nbformat_minor": 2
}
