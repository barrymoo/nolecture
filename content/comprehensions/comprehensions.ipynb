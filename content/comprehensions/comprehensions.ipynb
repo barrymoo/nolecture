{
 "cells": [
  {
   "cell_type": "markdown",
   "metadata": {},
   "source": [
    "List Comprehensions\n",
    "---\n",
    "\n",
    "We have looked at a few examples of adding two lists element-wise, but there is actually some sugar which will help you out! Comprehensions are my favorite Python language constructs (yes, that's a thing!).\n",
    "\n",
    "- Syntax:\n",
    "```python\n",
    "[<body> for <temporary> in <container/iterable/iterator>]\n",
    "```\n",
    "- Example:"
   ]
  },
  {
   "cell_type": "code",
   "execution_count": null,
   "metadata": {},
   "outputs": [],
   "source": [
    "a = [1, 2, 3]\n",
    "b = [3, 2, 1]\n",
    "c = [x + y for x, y in zip(a, b)]\n",
    "c"
   ]
  },
  {
   "cell_type": "markdown",
   "metadata": {},
   "source": [
    "### Breaking Down the Syntax\n",
    "\n",
    "- `for x, y in zip(a, b)` should look familiar\n",
    "    - `x` and `y` are unpacked `tuple`s returned by the `zip` iterator\n",
    "- `x + y` is simply the body\n",
    "- Wrapping these up in brackets we have our comprehension\n",
    "\n",
    "### Notes\n",
    "\n",
    "- Comprehensions are great for simple operations, but don't get carried away\n",
    "    - Sometimes it is more readable to have a `for` loop\n",
    "- Another example with a filter clause:"
   ]
  },
  {
   "cell_type": "code",
   "execution_count": null,
   "metadata": {},
   "outputs": [],
   "source": [
    "a = [1, 2, 3]\n",
    "b = [3, 4, 5]\n",
    "c = [x + y for x, y in zip(a, b) if (x + y) % 2 == 0]\n",
    "c"
   ]
  },
  {
   "cell_type": "markdown",
   "metadata": {},
   "source": [
    "- This is very similar to the example above, but we added `if (x + y) % 2 == 0` to filter out only even results\n",
    "- Again, I want to emphasize that it is really easy for comprehensions to __decrease__ readability of code\n",
    "    - Unreadable code is also unmaintainable!"
   ]
  },
  {
   "cell_type": "markdown",
   "metadata": {},
   "source": [
    "### Dictionary Comprehensions\n",
    "\n",
    "- Similarly to list comprehensions, one can also do dictionary comprehensions!\n",
    "- Some examples:"
   ]
  },
  {
   "cell_type": "code",
   "execution_count": null,
   "metadata": {},
   "outputs": [],
   "source": [
    "d = {'one': 1, 'two': 2, 'three': 3}\n",
    "keys_become_values = {k: k for k in d}\n",
    "keys_become_values"
   ]
  },
  {
   "cell_type": "code",
   "execution_count": null,
   "metadata": {},
   "outputs": [],
   "source": [
    "d = {'one': 1, 'two': 2, 'three': 3}\n",
    "values_become_keys = {v: v for v in d.values()}\n",
    "values_become_keys"
   ]
  },
  {
   "cell_type": "code",
   "execution_count": null,
   "metadata": {},
   "outputs": [],
   "source": [
    "d = {'one': 1, 'two': 2, 'three': 3}\n",
    "values_doubled = {k: v * 2 for k, v in d.items()}\n",
    "values_doubled"
   ]
  },
  {
   "cell_type": "markdown",
   "metadata": {},
   "source": [
    "### Notes\n",
    "\n",
    "- One can add the filter clause to the end of a dictionary comprehension\n",
    "- The `<body>` of the dictionary comprehension must be a `<key>: <value>` pair\n",
    "- You can use dictionaries in list comprehensions, but the bodies must be values not key-value pairs"
   ]
  },
  {
   "cell_type": "markdown",
   "metadata": {},
   "source": [
    "### Tasks\n",
    "\n",
    "1. Given the definitions below,\n",
    "    - Make `my_even` from `my_dict` which only contains even values\n",
    "    - Make `my_odd_squared` from `my_dict` which contains squares of the odd values\n",
    "    - Build `favorite_songs_by` from `songs` (values) and `artists` (keys)\n",
    "    - Invert `favorite_songs_by`, i.e. keys become values, values become keys"
   ]
  },
  {
   "cell_type": "code",
   "execution_count": null,
   "metadata": {},
   "outputs": [],
   "source": [
    "# definitions\n",
    "my_dict = {'one': 1, 'two': 2, 'three': 3, 'four': 4}\n",
    "songs = [\"Tom Sawyer\", \"Money\", \"Simple Man\"]\n",
    "artists = [\"Rush\", \"Pink Floyd\", \"Lynyrd Skynyrd\"]"
   ]
  },
  {
   "cell_type": "code",
   "execution_count": null,
   "metadata": {},
   "outputs": [],
   "source": []
  },
  {
   "cell_type": "code",
   "execution_count": null,
   "metadata": {},
   "outputs": [],
   "source": []
  },
  {
   "cell_type": "code",
   "execution_count": null,
   "metadata": {},
   "outputs": [],
   "source": []
  },
  {
   "cell_type": "code",
   "execution_count": null,
   "metadata": {},
   "outputs": [],
   "source": []
  }
 ],
 "metadata": {
  "kernelspec": {
   "display_name": "Python 3",
   "language": "python",
   "name": "python3"
  },
  "language_info": {
   "codemirror_mode": {
    "name": "ipython",
    "version": 3
   },
   "file_extension": ".py",
   "mimetype": "text/x-python",
   "name": "python",
   "nbconvert_exporter": "python",
   "pygments_lexer": "ipython3",
   "version": "3.7.0"
  }
 },
 "nbformat": 4,
 "nbformat_minor": 2
}
