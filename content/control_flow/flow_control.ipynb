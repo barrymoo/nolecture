{
 "cells": [
  {
   "cell_type": "markdown",
   "metadata": {},
   "source": [
    "Flow Control\n",
    "---\n",
    "\n",
    "1. Conditional Statements (`if-elif-else`)\n",
    "    - Use comparison operators and boolean operators which, when evaluate to true, runs some block of code.\n",
    "    - `elif` stands for `else if`\n",
    "  \n",
    "#### Tasks:\n",
    "\n",
    "```python\n",
    "x = 12\n",
    "\n",
    "if x == 0:\n",
    "    print(\"{} is zero\".format(x))\n",
    "elif x > 0:\n",
    "    print(\"{} is negative\".format(x))\n",
    "elif x > 0:\n",
    "    print(\"{} is positive\".format(x))\n",
    "else:\n",
    "    print(\"I don't recognize {}\".format(x))\n",
    "```\n",
    "\n",
    "1. Given the code above, what do you think is printed?\n",
    "2. Copy and paste the code into the cell below, what is actually printed? Why?\n",
    "3. Will the `else` block ever trigger?"
   ]
  },
  {
   "cell_type": "code",
   "execution_count": null,
   "metadata": {},
   "outputs": [],
   "source": []
  }
 ],
 "metadata": {
  "kernelspec": {
   "display_name": "Python 3",
   "language": "python",
   "name": "python3"
  },
  "language_info": {
   "codemirror_mode": {
    "name": "ipython",
    "version": 3
   },
   "file_extension": ".py",
   "mimetype": "text/x-python",
   "name": "python",
   "nbconvert_exporter": "python",
   "pygments_lexer": "ipython3",
   "version": "3.6.6"
  }
 },
 "nbformat": 4,
 "nbformat_minor": 2
}
