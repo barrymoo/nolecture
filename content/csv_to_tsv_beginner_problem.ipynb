{
 "cells": [
  {
   "cell_type": "markdown",
   "metadata": {},
   "source": [
    "CSV to TSV Problem\n",
    "---\n",
    "\n",
    "#### Description\n",
    "\n",
    "You were given a \"Comma Separated Value\" (csv) file, but the program you are interested in using only reads data in \"Tab Separated Value\" (tsv) format. The file is massive and crashes your Excel, you tried Google Sheets too but the browser freezes when opening the file. Now what?\n",
    "\n",
    "#### Hints\n",
    "\n",
    "- To convert one character to something else, use `str.replace(\"<old>\", \"<new>\")`:"
   ]
  },
  {
   "cell_type": "code",
   "execution_count": null,
   "metadata": {},
   "outputs": [],
   "source": [
    "a = \"Hello World\"\n",
    "a.replace(\"l\", \":)\")"
   ]
  },
  {
   "cell_type": "markdown",
   "metadata": {},
   "source": [
    "- The tab character is represented by `\\t`.\n",
    "\n",
    "#### Tasks\n",
    "\n",
    "1. Use the idioms you already know to convert `example.csv` to `example.tsv`\n",
    "    - Typically the first line of a csv file contains some descriptors of the data inside. I removed that for simplicity, but would it have mattered?"
   ]
  },
  {
   "cell_type": "code",
   "execution_count": null,
   "metadata": {},
   "outputs": [],
   "source": []
  }
 ],
 "metadata": {
  "kernelspec": {
   "display_name": "Python 3",
   "language": "python",
   "name": "python3"
  },
  "language_info": {
   "codemirror_mode": {
    "name": "ipython",
    "version": 3
   },
   "file_extension": ".py",
   "mimetype": "text/x-python",
   "name": "python",
   "nbconvert_exporter": "python",
   "pygments_lexer": "ipython3",
   "version": "3.6.6"
  }
 },
 "nbformat": 4,
 "nbformat_minor": 2
}
