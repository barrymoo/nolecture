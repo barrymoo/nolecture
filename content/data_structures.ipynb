{
 "cells": [
  {
   "cell_type": "markdown",
   "metadata": {},
   "source": [
    "Data Structures (Containers)\n",
    "---\n",
    "\n",
    "- Lists (`list`):\n",
    "    - e.g. `[1, 2, 3]`\n",
    "- Tuple (`tuple`):\n",
    "    - e.g. `(1, 2, 3)`\n",
    "- Dictionary (`dict`):\n",
    "    - `<key>: <value>` store e.g. `{'a': 1, 'b': 2}`\n",
    "- Set (`set`)\n",
    "    - e.g. `{1, 2, 3}`\n",
    "    \n",
    "#### Definitions\n",
    "\n",
    "- Ordered:\n",
    "\n",
    "Consider a container called `a`, if the elements can be accessed using `[n]` syntax where `0 <= n < len(a)` the container is ordered.\n",
    "Let's consider the following code:\n",
    "\n",
    "```python\n",
    "a = [10, 9, 8]\n",
    "print(\"Length: {}\".format(len(a)))\n",
    "print(\"a[0] is: {}\".format(a[0]))\n",
    "```\n",
    "\n",
    "Above we access `a` with an _index_. The first element `10` is accessed with the index 0, e.g.\n",
    "\n",
    "```text\n",
    "list   [10, 9, 8]\n",
    "         ^  ^  ^\n",
    "index    0  1  2\n",
    "```\n",
    "\n",
    "As an example, try the following cell:"
   ]
  },
  {
   "cell_type": "code",
   "execution_count": null,
   "metadata": {},
   "outputs": [],
   "source": [
    "a = [10, 9, 8]\n",
    "print(\"Length: \", len(a))\n",
    "print(\"a[0] is: \", a[0])"
   ]
  }
 ],
 "metadata": {
  "kernelspec": {
   "display_name": "Python 3",
   "language": "python",
   "name": "python3"
  },
  "language_info": {
   "codemirror_mode": {
    "name": "ipython",
    "version": 3
   },
   "file_extension": ".py",
   "mimetype": "text/x-python",
   "name": "python",
   "nbconvert_exporter": "python",
   "pygments_lexer": "ipython3",
   "version": "3.6.6"
  }
 },
 "nbformat": 4,
 "nbformat_minor": 2
}
