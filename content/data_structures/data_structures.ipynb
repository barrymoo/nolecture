{
 "cells": [
  {
   "cell_type": "markdown",
   "metadata": {},
   "source": [
    "Data Structures\n",
    "---\n",
    "\n",
    "- Data structures group values and the operations\n",
    "    - The operations could:\n",
    "        - Provide information about the data structure\n",
    "        - Modify the structure itself\n",
    "- One of the simplest data structures is a `tuple`\n",
    "- Tuples can contain many values in \"order\", but are \"immutable\"\n",
    "    - Syntax: `(<object>, <objects>...)`\n",
    "    - Example:"
   ]
  },
  {
   "cell_type": "code",
   "execution_count": null,
   "metadata": {},
   "outputs": [],
   "source": [
    "a_tuple = (10, 9, 8)"
   ]
  },
  {
   "cell_type": "markdown",
   "metadata": {},
   "source": [
    "Definitions\n",
    "---\n",
    "\n",
    "- \"Ordered\" means objects within the data structure be accessed by an \"index\", pictorally\n",
    "\n",
    "```\n",
    "tuple (10, 9, 8)\n",
    "        ^  ^  ^\n",
    "index   0  1  2\n",
    "```\n",
    "\n",
    "- To access index `n` from a data structure `c`, syntax: `c[n]`\n",
    "- Example:"
   ]
  },
  {
   "cell_type": "code",
   "execution_count": 1,
   "metadata": {},
   "outputs": [
    {
     "name": "stdout",
     "output_type": "stream",
     "text": [
      "3\n",
      "2\n",
      "1\n"
     ]
    }
   ],
   "source": [
    "example_tuple = (3, 2, 1)\n",
    "print(example_tuple[0])\n",
    "print(example_tuple[1])\n",
    "print(example_tuple[2])"
   ]
  },
  {
   "cell_type": "markdown",
   "metadata": {},
   "source": [
    "### Tasks\n",
    "\n",
    "1. Looking at the above `example_tuple`,\n",
    "    - What are the objects in the data structure?\n",
    "    - What are the indices?\n",
    "2. Using `a_tuple` from the definitions cell, try to extract `9` using the index"
   ]
  },
  {
   "cell_type": "code",
   "execution_count": null,
   "metadata": {},
   "outputs": [],
   "source": [
    "# definitions\n",
    "a_tuple = (10, 9, 8)"
   ]
  },
  {
   "cell_type": "code",
   "execution_count": null,
   "metadata": {},
   "outputs": [],
   "source": []
  },
  {
   "cell_type": "markdown",
   "metadata": {},
   "source": [
    "Definitions Cont.\n",
    "---\n",
    "\n",
    "- \"Immutable\" means the object can _NOT_ change, example:"
   ]
  },
  {
   "cell_type": "code",
   "execution_count": null,
   "metadata": {},
   "outputs": [],
   "source": [
    "a_tuple[0] = 12"
   ]
  },
  {
   "cell_type": "markdown",
   "metadata": {},
   "source": [
    "- You should have gotten a `TypeError` because this object cannot change\n",
    "- You can add items to tuples, but you need to reassign the name to a new object\n",
    "    - First, an example:"
   ]
  },
  {
   "cell_type": "code",
   "execution_count": null,
   "metadata": {},
   "outputs": [],
   "source": [
    "a_tuple = a_tuple + (7,)\n",
    "a_tuple"
   ]
  },
  {
   "cell_type": "markdown",
   "metadata": {},
   "source": [
    "### Breaking Down the Syntax\n",
    "\n",
    "```python\n",
    "a_tuple = a_tuple + (7,)\n",
    "```\n",
    "\n",
    "- `a_tuple` (right side of equals) resolves to the object `(10, 9, 8)`\n",
    "- `(7,)` is a new tuple object with one element (note: `(7)` would just be an integer and would fail)\n",
    "- The two objects on the right side can be added to form a new object `(10, 9, 8, 7)` and reassigned to the name `a_tuple` (left side of equals)\n",
    "\n",
    "### Back to Data Structures\n",
    "\n",
    "- Tuples aren't terribly flexible, but they might be perfectly acceptable depending on what you are doing\n",
    "- \"Sets\" are used to represent a unique group of things\n",
    "    - Syntax: `{<object>, <objects>, ...}`\n",
    "    - Example:"
   ]
  },
  {
   "cell_type": "code",
   "execution_count": null,
   "metadata": {},
   "outputs": [],
   "source": [
    "a_set = {4, 10, 8}\n",
    "a_set"
   ]
  },
  {
   "cell_type": "markdown",
   "metadata": {},
   "source": [
    "- Sets are \"mutable\" (can be changed) and \"unordered\" (can not be accessed via an index)\n",
    "    - To add elements, syntax: `a_set.add(<object>)`\n",
    "        - Sets are unique, can't add an element that already exists\n",
    "    - To remove elements, syntax: `a_set.remove(<object>)`\n",
    "        - Trying to remove an object which doesn't exist will fail\n",
    "- \"Lists\" are much more flexible than tuples or sets\n",
    "    - Syntax: `[<object>, <objects>, ...]`\n",
    "    - Example:"
   ]
  },
  {
   "cell_type": "code",
   "execution_count": null,
   "metadata": {},
   "outputs": [],
   "source": [
    "a_list = [3, 4, 5]\n",
    "a_list"
   ]
  },
  {
   "cell_type": "markdown",
   "metadata": {},
   "source": [
    "- Lists are mutable and ordered\n",
    "    - To add items, use `a_list.append(<object>)`\n",
    "    - To remove items,\n",
    "        - by index, `a_list.pop(<index>)`\n",
    "        - by object, `a_list.remove(<object>)`\n",
    "            - will only remove first occurrence if duplicate objects exist\n",
    "        \n",
    "### Aside: `append`\n",
    "\n",
    "Appending many items to a list can be extremely slow. If you know the size of the list before-hand it is best to preallocate the list and enter items, example:"
   ]
  },
  {
   "cell_type": "code",
   "execution_count": null,
   "metadata": {},
   "outputs": [],
   "source": [
    "num_items = 20\n",
    "empty_list = [None] * num_items\n",
    "# some command/s to insert many items\n",
    "empty_list"
   ]
  },
  {
   "cell_type": "markdown",
   "metadata": {},
   "source": [
    "### Task\n",
    "\n",
    "1. Could you preallocate a `tuple` object? Why or why not? \n",
    "\n",
    "### Back to Data Structures\n",
    "\n",
    "- The final data structure I will discuss is a \"dictionary\"\n",
    "- Dictionaries are mutable and unordered\n",
    "- Dictionaries are accessed using \"keys\", each key is associated with a \"value\"\n",
    "    - Syntax: `{<key0>: <value0>, <key1>: <value1>, ...}`\n",
    "        - Keys must be unique\n",
    "        - Values could be duplicates\n",
    "    - Example:"
   ]
  },
  {
   "cell_type": "code",
   "execution_count": null,
   "metadata": {},
   "outputs": [],
   "source": [
    "a_dict = {'a': 1, 'b': 2}\n",
    "a_dict"
   ]
  },
  {
   "cell_type": "markdown",
   "metadata": {},
   "source": [
    "- Above, the keys are `a` and `b` with values `1` and `2`\n",
    "\n",
    "### Data Structures: Utilities\n",
    "\n",
    "There are many functions which can operate on many containers. I will go over a few useful properties now.\n",
    "\n",
    "- Does the data structure contain a specific element?\n",
    "    - Syntax: `<object> in <container>`\n",
    "    - Examples:"
   ]
  },
  {
   "cell_type": "code",
   "execution_count": null,
   "metadata": {},
   "outputs": [],
   "source": [
    "# Reminder\n",
    "a_tuple, a_set, a_list, a_dict"
   ]
  },
  {
   "cell_type": "code",
   "execution_count": null,
   "metadata": {},
   "outputs": [],
   "source": [
    "9 in a_tuple"
   ]
  },
  {
   "cell_type": "code",
   "execution_count": null,
   "metadata": {},
   "outputs": [],
   "source": [
    "4 in a_set"
   ]
  },
  {
   "cell_type": "code",
   "execution_count": null,
   "metadata": {},
   "outputs": [],
   "source": [
    "5 in a_list"
   ]
  },
  {
   "cell_type": "code",
   "execution_count": null,
   "metadata": {},
   "outputs": [],
   "source": [
    "'a' in a_dict"
   ]
  },
  {
   "cell_type": "code",
   "execution_count": null,
   "metadata": {},
   "outputs": [],
   "source": [
    "1 in a_dict"
   ]
  },
  {
   "cell_type": "code",
   "execution_count": null,
   "metadata": {},
   "outputs": [],
   "source": [
    "1 in a_dict.values()"
   ]
  },
  {
   "cell_type": "markdown",
   "metadata": {},
   "source": [
    "- How many elements does the container have?\n",
    "    - Syntax: `len(<container>)`\n",
    "    - Examples:"
   ]
  },
  {
   "cell_type": "code",
   "execution_count": null,
   "metadata": {},
   "outputs": [],
   "source": [
    "len(a_tuple), len(a_set), len(a_list), len(a_dict)"
   ]
  }
 ],
 "metadata": {
  "kernelspec": {
   "display_name": "Python 3",
   "language": "python",
   "name": "python3"
  },
  "language_info": {
   "codemirror_mode": {
    "name": "ipython",
    "version": 3
   },
   "file_extension": ".py",
   "mimetype": "text/x-python",
   "name": "python",
   "nbconvert_exporter": "python",
   "pygments_lexer": "ipython3",
   "version": "3.7.0"
  }
 },
 "nbformat": 4,
 "nbformat_minor": 2
}
