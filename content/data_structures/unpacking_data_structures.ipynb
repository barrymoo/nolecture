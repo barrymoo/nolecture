{
 "cells": [
  {
   "cell_type": "markdown",
   "metadata": {},
   "source": [
    "Unpacking Complicated Data Structures\n",
    "---\n",
    "\n",
    "You probably noticed that your loop over the dictionary only printed the values. What if you wanted both keys and values?\n",
    "\n",
    "Python allows you to \"unpack\" dictionaries (using the method `items`) as well as list of lists, e.g.\n",
    "\n",
    "```python\n",
    "for key, value in {'a': 1, 'b': 2}.items():\n",
    "    print(\"{}: {}\".format(key, value))\n",
    "```\n",
    "\n",
    "or,\n",
    "\n",
    "```python\n",
    "for i, j in [[1, 2], [3, 4]]:\n",
    "    print(\"{}: {}\".format(i, j))\n",
    "```\n",
    "\n",
    "#### Tasks\n",
    "\n",
    "1. Write a membership based for loop for `c` (dictionary you made previously)\n",
    "2. Generate the following list of list: `[[9, 8], [6, 5], [3, 2]]`. Write a membership based for loop which multiplies the pairs, e.g. $ 9 \\times 8, \\ldots $"
   ]
  },
  {
   "cell_type": "code",
   "execution_count": null,
   "metadata": {},
   "outputs": [],
   "source": []
  },
  {
   "cell_type": "code",
   "execution_count": null,
   "metadata": {},
   "outputs": [],
   "source": []
  }
 ],
 "metadata": {
  "kernelspec": {
   "display_name": "Python 3",
   "language": "python",
   "name": "python3"
  },
  "language_info": {
   "codemirror_mode": {
    "name": "ipython",
    "version": 3
   },
   "file_extension": ".py",
   "mimetype": "text/x-python",
   "name": "python",
   "nbconvert_exporter": "python",
   "pygments_lexer": "ipython3",
   "version": "3.7.0"
  }
 },
 "nbformat": 4,
 "nbformat_minor": 2
}
