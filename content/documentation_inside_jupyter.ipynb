{
 "cells": [
  {
   "cell_type": "markdown",
   "metadata": {},
   "source": [
    "Documentation Inside Jupyter\n",
    "---\n",
    "\n",
    "By now, you probably realize what `print` is doing. However, if you aren't sure Jupyter, has built in documentation! Run this code:"
   ]
  },
  {
   "cell_type": "code",
   "execution_count": null,
   "metadata": {},
   "outputs": [],
   "source": [
    "?print"
   ]
  },
  {
   "cell_type": "markdown",
   "metadata": {},
   "source": [
    "If you can't get the documentation from Jupyter:\n",
    "\n",
    "1. Google it with string: \"python <thing you are looking for>\", places you might end up:\n",
    "    - [Stack Overflow](https://stackoverflow.com) - Best place for programming questions\n",
    "    - [Python Documentation](https://docs.python.org/3) - Good place for Python"
   ]
  },
  {
   "cell_type": "markdown",
   "metadata": {},
   "source": [
    "Notes\n",
    "---\n",
    "\n",
    "- At the bottom you should see: `Type: builtin_function_or_method`\n",
    "    - We'll come back to functions and methods later. First, we should discuss types"
   ]
  }
 ],
 "metadata": {
  "kernelspec": {
   "display_name": "Python 3",
   "language": "python",
   "name": "python3"
  },
  "language_info": {
   "codemirror_mode": {
    "name": "ipython",
    "version": 3
   },
   "file_extension": ".py",
   "mimetype": "text/x-python",
   "name": "python",
   "nbconvert_exporter": "python",
   "pygments_lexer": "ipython3",
   "version": "3.6.6"
  }
 },
 "nbformat": 4,
 "nbformat_minor": 2
}
