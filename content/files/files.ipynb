{
 "cells": [
  {
   "cell_type": "markdown",
   "metadata": {},
   "source": [
    "Reading and Writing Files\n",
    "---\n",
    "\n",
    "- Opening files using the `with` syntax:\n",
    "\n",
    "```python\n",
    "with open(<file>, <mode>) as <name>:\n",
    "    # do something with name\n",
    "```\n",
    "\n",
    "### Breaking Down the Syntax:\n",
    "\n",
    "- `<file>` is the name of a file on the filesystem\n",
    "- `<mode>` can be:\n",
    "    - `\"r\"`: read\n",
    "    - `\"w\"`: write (overwrites contents)\n",
    "    - `\"a\"`: append\n",
    "- Write and append mode will create the file if it doesn't exist\n",
    "- `<name>` is how you will refer to the file in the body\n",
    "- Example (using `<file_object>.write`):"
   ]
  },
  {
   "cell_type": "code",
   "execution_count": null,
   "metadata": {},
   "outputs": [],
   "source": [
    "with open(\"hello.world.txt\", \"w\") as f:\n",
    "    f.write(\"Hello, World!\\n\")\n",
    "    f.write(\"Is there anybody in there?\\n\")"
   ]
  },
  {
   "cell_type": "markdown",
   "metadata": {},
   "source": [
    "- `\"\\n\"` represents the creation of a new line\n",
    "    - Try removing it and running the above code, what happened?\n",
    "- Example (using `<file_object>.writelines`)"
   ]
  },
  {
   "cell_type": "code",
   "execution_count": null,
   "metadata": {},
   "outputs": [],
   "source": [
    "with open(\"hello.world.txt\", \"a\") as f:\n",
    "    content = [\"Yes, it's me\\n\", \"Carmen Sandiego\\n\"]\n",
    "    f.writelines(content)"
   ]
  },
  {
   "cell_type": "markdown",
   "metadata": {},
   "source": [
    "### Tasks\n",
    "\n",
    "- Given the file `data.csv`,\n",
    "    - `open` can be used as an iterator to get to each line (feel free to use `with` syntax if you prefer it)\n",
    "    - `print` returns `None`\n",
    "        - Generates `[None, None, None, None]` at the end of the cell\n",
    "    - The type of `l` below is `str` or String"
   ]
  },
  {
   "cell_type": "code",
   "execution_count": null,
   "metadata": {},
   "outputs": [],
   "source": [
    "[print(l) for l in open(\"data.csv\", \"r\")]"
   ]
  },
  {
   "cell_type": "markdown",
   "metadata": {},
   "source": [
    "For each step, I suggest you save the intermediate values into variables\n",
    "\n",
    "1) Use a list comprehension to read \"data.csv\" into a list\n",
    "- Hint: use `<str>.strip()` to remove new line characters"
   ]
  },
  {
   "cell_type": "code",
   "execution_count": null,
   "metadata": {},
   "outputs": [],
   "source": []
  },
  {
   "cell_type": "markdown",
   "metadata": {},
   "source": [
    "2) Use another list comprehension to split the string into two values\n",
    "- Hint: `\"10,11\".split(',')` is `[\"10\", \"11\"]`"
   ]
  },
  {
   "cell_type": "code",
   "execution_count": null,
   "metadata": {},
   "outputs": [],
   "source": []
  },
  {
   "cell_type": "markdown",
   "metadata": {},
   "source": [
    "3) Use another list comprehension to convert the strings to integers\n",
    "- Hint: `int(\"10\")` will convert `\"10\"` to `10`"
   ]
  },
  {
   "cell_type": "code",
   "execution_count": null,
   "metadata": {},
   "outputs": [],
   "source": []
  },
  {
   "cell_type": "markdown",
   "metadata": {},
   "source": [
    "4) Add every pair of values together via a list comprehension"
   ]
  },
  {
   "cell_type": "code",
   "execution_count": null,
   "metadata": {},
   "outputs": [],
   "source": []
  },
  {
   "cell_type": "markdown",
   "metadata": {},
   "source": [
    "5) Write each sum, on individual lines, to a file named \"sums.csv\" using the `with` syntax\n",
    "- Hint: An integer can be converted to a string, example `str(1)` is `\"1\"`"
   ]
  },
  {
   "cell_type": "code",
   "execution_count": null,
   "metadata": {},
   "outputs": [],
   "source": []
  }
 ],
 "metadata": {
  "kernelspec": {
   "display_name": "Python 3",
   "language": "python",
   "name": "python3"
  },
  "language_info": {
   "codemirror_mode": {
    "name": "ipython",
    "version": 3
   },
   "file_extension": ".py",
   "mimetype": "text/x-python",
   "name": "python",
   "nbconvert_exporter": "python",
   "pygments_lexer": "ipython3",
   "version": "3.7.0"
  }
 },
 "nbformat": 4,
 "nbformat_minor": 2
}
