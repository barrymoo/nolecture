{
 "cells": [
  {
   "cell_type": "markdown",
   "metadata": {},
   "source": [
    "Flow Control: `if`\n",
    "---\n",
    "\n",
    "- The keyword `if` takes a comparison, if the comparison is `True` the block will run\n",
    "- You can add the following to extend an `if`:\n",
    "    - `elif` means \"else if\" and provides additional comparisons to match\n",
    "    - `else` will run if none of the previous `if` or `elif`s match\n",
    "    - The first `True` comparison will be run, others will be ignored\n",
    "- Syntax:\n",
    "```python\n",
    "if <comparison0>:\n",
    "    # procedure if comparison0 True\n",
    "elif <comparison1>:\n",
    "    # procedure if comparison1 True\n",
    "else:\n",
    "    # procedure if neither comparison0 or comparison1 are True\n",
    "```  \n",
    "- Important notes\n",
    "    - `elif` and `else` not strictly necessary, but must start with `if`\n",
    "    - Any number of `elif`s can be used, but only one `else`\n",
    "    - `else` must be last\n",
    "    - Python won't warn you if\n",
    "        - You make the same comparisons multiple times\n",
    "        - Create and `if`, `elif`, or `else` which would never be `True`\n",
    "\n",
    "#### Tasks:\n",
    "\n",
    "1. Before running the code below, what do you think is printed?\n",
    "2. Run the code, what is the result? Why?"
   ]
  },
  {
   "cell_type": "code",
   "execution_count": null,
   "metadata": {},
   "outputs": [],
   "source": [
    "x = -12\n",
    "\n",
    "if x == 0:\n",
    "    print(x, \"is zero\")\n",
    "elif x > 0:\n",
    "    print(x, \"is negative\")\n",
    "elif x > 0:\n",
    "    print(x, \"is positive\")\n",
    "else:\n",
    "    print(\"I don't recognize\", x)"
   ]
  },
  {
   "cell_type": "markdown",
   "metadata": {},
   "source": [
    "Aside: Error versus Bug\n",
    "---\n",
    "\n",
    "- The code above runs, but doesn't produce the result we expect. This is known as a \"bug\".\n",
    "- An \"error\" will result in the code not running, e.g. `TypeError` and `IndentationError` which we saw before\n",
    "\n",
    "### Tasks Cont.\n",
    "\n",
    "1. Fix the bug in the code below\n",
    "2. Try different values for `x`\n",
    "3. Will the `else` block ever run?"
   ]
  },
  {
   "cell_type": "code",
   "execution_count": null,
   "metadata": {},
   "outputs": [],
   "source": [
    "x = -12\n",
    "\n",
    "if x == 0:\n",
    "    print(x, \"is zero\")\n",
    "elif x > 0:\n",
    "    print(x, \"is negative\")\n",
    "elif x > 0:\n",
    "    print(x, \"is positive\")\n",
    "else:\n",
    "    print(\"I don't recognize\", x)"
   ]
  }
 ],
 "metadata": {
  "kernelspec": {
   "display_name": "Python 3",
   "language": "python",
   "name": "python3"
  },
  "language_info": {
   "codemirror_mode": {
    "name": "ipython",
    "version": 3
   },
   "file_extension": ".py",
   "mimetype": "text/x-python",
   "name": "python",
   "nbconvert_exporter": "python",
   "pygments_lexer": "ipython3",
   "version": "3.7.0"
  }
 },
 "nbformat": 4,
 "nbformat_minor": 2
}
