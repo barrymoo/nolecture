{
 "cells": [
  {
   "cell_type": "markdown",
   "metadata": {},
   "source": [
    "Anonymous Functions\n",
    "---\n",
    "\n",
    "These functions are essentially syntactic sugar for simple functions. They can also be unnamed and used inside other functions (we will look at this later).\n",
    "\n",
    "- Syntax:\n",
    "\n",
    "```python\n",
    "lambda x: x * 2\n",
    "```\n",
    "\n",
    "- What do you think this function would do?\n",
    "\n",
    "### Breakdown the Syntax\n",
    "\n",
    "- `lambda` starts the anonymous function\n",
    "- `x` names a single input, use `x, y` for multiple inputs\n",
    "- `:` seperates the inputs from the body\n",
    "- `x * 2` is the body of the function\n",
    "\n",
    "### Notes\n",
    "\n",
    "- We can \"desugar\" the above to:\n",
    "\n",
    "```python\n",
    "def double(x):\n",
    "    return x * 2\n",
    "```\n",
    "\n",
    "- Note when desugaring a name is required!\n",
    "    - You _can_ name anonymous functions if you like, e.g.\n",
    "\n",
    "```python\n",
    "double = lambda x: x * 2\n",
    "```\n",
    "\n",
    "- Examples:"
   ]
  },
  {
   "cell_type": "code",
   "execution_count": 2,
   "metadata": {},
   "outputs": [
    {
     "data": {
      "text/plain": [
       "8"
      ]
     },
     "execution_count": 2,
     "metadata": {},
     "output_type": "execute_result"
    }
   ],
   "source": [
    "cube = lambda x: x ** 3\n",
    "cube(2)"
   ]
  },
  {
   "cell_type": "code",
   "execution_count": 3,
   "metadata": {},
   "outputs": [
    {
     "data": {
      "text/plain": [
       "'hello!'"
      ]
     },
     "execution_count": 3,
     "metadata": {},
     "output_type": "execute_result"
    }
   ],
   "source": [
    "exclaim = lambda x: x + \"!\"\n",
    "exclaim(\"hello\")"
   ]
  },
  {
   "cell_type": "markdown",
   "metadata": {},
   "source": [
    "### Tips\n",
    "\n",
    "- Anonymous functions should only be used for simple functions, e.g. double, square, and exclaim\n",
    "- Anonymous functions are typically used as inputs for other functions (in detail later)\n",
    "    - Simple example:"
   ]
  },
  {
   "cell_type": "code",
   "execution_count": 8,
   "metadata": {},
   "outputs": [
    {
     "data": {
      "text/plain": [
       "4"
      ]
     },
     "execution_count": 8,
     "metadata": {},
     "output_type": "execute_result"
    }
   ],
   "source": [
    "def apply_unary_f(f, x):\n",
    "    return f(x)\n",
    "\n",
    "apply_unary_f(lambda x: x * 2, 2)"
   ]
  },
  {
   "cell_type": "markdown",
   "metadata": {},
   "source": [
    "#### Tasks\n",
    "\n",
    "1. Write an anonymous `addition` function\n",
    "2. Given the definition for `apply_unary_f` above, try to write `apply_binary_f`\n",
    "3. Use your `addition` and `apply_binary_f` to add 2 and 3"
   ]
  },
  {
   "cell_type": "code",
   "execution_count": null,
   "metadata": {},
   "outputs": [],
   "source": []
  },
  {
   "cell_type": "code",
   "execution_count": null,
   "metadata": {},
   "outputs": [],
   "source": []
  },
  {
   "cell_type": "code",
   "execution_count": null,
   "metadata": {},
   "outputs": [],
   "source": []
  }
 ],
 "metadata": {
  "kernelspec": {
   "display_name": "Python 3",
   "language": "python",
   "name": "python3"
  },
  "language_info": {
   "codemirror_mode": {
    "name": "ipython",
    "version": 3
   },
   "file_extension": ".py",
   "mimetype": "text/x-python",
   "name": "python",
   "nbconvert_exporter": "python",
   "pygments_lexer": "ipython3",
   "version": "3.7.0"
  }
 },
 "nbformat": 4,
 "nbformat_minor": 2
}
