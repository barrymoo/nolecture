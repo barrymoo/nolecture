{
 "cells": [
  {
   "cell_type": "markdown",
   "metadata": {},
   "source": [
    "Anonymous Functions\n",
    "---\n",
    "\n",
    "These are unnamed functions which are referred to as \"syntactic sugar\". You will see this term a lot. It basically means that when you use them, you write less code. An example:\n",
    "\n",
    "```\n",
    "square = lambda x: x ** 2\n",
    "var = square(2)\n",
    "```\n",
    "\n",
    "which is exactly equivalent to the square function we wrote before, but in a more compact syntax. These are really helpful in the next section.\n",
    "\n",
    "#### Tasks\n",
    "\n",
    "1. Write an anonymous `cube` function\n",
    "2. Write an anonymous `addition` function"
   ]
  },
  {
   "cell_type": "code",
   "execution_count": null,
   "metadata": {},
   "outputs": [],
   "source": []
  },
  {
   "cell_type": "code",
   "execution_count": null,
   "metadata": {},
   "outputs": [],
   "source": []
  }
 ],
 "metadata": {
  "kernelspec": {
   "display_name": "Python 3",
   "language": "python",
   "name": "python3"
  },
  "language_info": {
   "codemirror_mode": {
    "name": "ipython",
    "version": 3
   },
   "file_extension": ".py",
   "mimetype": "text/x-python",
   "name": "python",
   "nbconvert_exporter": "python",
   "pygments_lexer": "ipython3",
   "version": "3.6.6"
  }
 },
 "nbformat": 4,
 "nbformat_minor": 2
}
