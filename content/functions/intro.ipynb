{
 "cells": [
  {
   "cell_type": "markdown",
   "metadata": {},
   "source": [
    "Functions\n",
    "---\n",
    "\n",
    "- A \"function\" is a procedure which takes input and produces output\n",
    "- Examples (which we saw earlier)\n",
    "    - `len` took a container and produced an integer (the number of elements)\n",
    "    - `range` took an integer and produced an \"iterable\" with that many elements in ascending order\n",
    "- Defining your own functions, syntax:\n",
    "\n",
    "```python\n",
    "def <function_name>(<input0>, <input1>, ...):\n",
    "    # Do something with input0 and input1 to product result\n",
    "    result = <input0> ... <input1>\n",
    "    return result\n",
    "```\n",
    "\n",
    "- Example, squaring an input:"
   ]
  },
  {
   "cell_type": "code",
   "execution_count": 1,
   "metadata": {},
   "outputs": [
    {
     "data": {
      "text/plain": [
       "4"
      ]
     },
     "execution_count": 1,
     "metadata": {},
     "output_type": "execute_result"
    }
   ],
   "source": [
    "def square(x):\n",
    "    return x * x\n",
    "\n",
    "square(2)"
   ]
  },
  {
   "cell_type": "markdown",
   "metadata": {},
   "source": [
    "### Breaking Down the Syntax:\n",
    "\n",
    "- `def` is the keyword to start a function definition\n",
    "- `square` is the name of the function\n",
    "- `return` passes back information to the caller of the function\n",
    "\n",
    "### Notes\n",
    "\n",
    "- Functions don't have to return anything (behind the scenes they return `None`)\n",
    "- When the interpreter evaluates a `return` it will ignore anything else in the function\n",
    "- Use meaningful function names to make your intention clear\n",
    "    - How helpful is the function if it was named `awesome_function`?\n",
    "- Function names should be lowercase and words separated by `_`\n",
    "    - This is true for variable names too\n",
    "    - You may also see `camelCase` (e.g. `awesome_function` -> `awesomeFunction`)\n",
    "        - Use this only if working on code which is already using this convention\n",
    "\n",
    "#### Tasks\n",
    "\n",
    "1. Verify that a function with multiple `return` statements only returns the first occurence\n",
    "2. Write the definition of a `cube` function\n",
    "3. Write the definition of the area for a circle given a radius\n",
    "    - $ A = \\pi r^2 $\n",
    "4. Write the definition of the `multiply` function"
   ]
  },
  {
   "cell_type": "code",
   "execution_count": null,
   "metadata": {},
   "outputs": [],
   "source": []
  },
  {
   "cell_type": "code",
   "execution_count": null,
   "metadata": {},
   "outputs": [],
   "source": []
  },
  {
   "cell_type": "code",
   "execution_count": null,
   "metadata": {},
   "outputs": [],
   "source": []
  },
  {
   "cell_type": "code",
   "execution_count": null,
   "metadata": {},
   "outputs": [],
   "source": []
  },
  {
   "cell_type": "code",
   "execution_count": null,
   "metadata": {},
   "outputs": [],
   "source": []
  }
 ],
 "metadata": {
  "kernelspec": {
   "display_name": "Python 3",
   "language": "python",
   "name": "python3"
  },
  "language_info": {
   "codemirror_mode": {
    "name": "ipython",
    "version": 3
   },
   "file_extension": ".py",
   "mimetype": "text/x-python",
   "name": "python",
   "nbconvert_exporter": "python",
   "pygments_lexer": "ipython3",
   "version": "3.7.0"
  }
 },
 "nbformat": 4,
 "nbformat_minor": 2
}
