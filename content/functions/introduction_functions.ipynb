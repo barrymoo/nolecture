{
 "cells": [
  {
   "cell_type": "markdown",
   "metadata": {},
   "source": [
    "Functions\n",
    "---\n",
    "\n",
    "Let's start with a definition for a function which squares the input:\n",
    "\n",
    "```python\n",
    "def square(x):\n",
    "    return x * x\n",
    "```\n",
    "\n",
    "Notes:\n",
    "\n",
    "- `def` is the start of the function definition\n",
    "- `square` is the name of the function. Example use: `a = square(2)`\n",
    "- `return` passes back information to the caller of the function (i.e. `a` above is 4)\n",
    "- Functions don't have to return anything (behind the scenes they return `None`)\n",
    "- When the interpreter evaluates a `return` it will ignore anything else in the function\n",
    "- Meaningful function names help you \n",
    "\n",
    "#### Tasks\n",
    "\n",
    "1. Verify that a function without a `return` statement returns `None`\n",
    "2. Verify that a function with multiple `return` statements only returns the first instance\n",
    "3. Write the definition of a cube function\n",
    "4. Write the definition of the area for a circle given a radius\n",
    "    - $ A = \\pi * r^2 $\n",
    "5. Write the definition of pressure from the ideal gas law (don't worry about the units, this isn't a chemistry class):\n",
    "    - $ PV = nRT $\n",
    "        - `P` is pressure\n",
    "        - `V` is volume\n",
    "        - `n` is the number of moles of gas\n",
    "        - `R` is the universal gas constant\n",
    "        - `T` is a temperature"
   ]
  },
  {
   "cell_type": "code",
   "execution_count": null,
   "metadata": {},
   "outputs": [],
   "source": []
  },
  {
   "cell_type": "code",
   "execution_count": null,
   "metadata": {},
   "outputs": [],
   "source": []
  },
  {
   "cell_type": "code",
   "execution_count": null,
   "metadata": {},
   "outputs": [],
   "source": []
  },
  {
   "cell_type": "code",
   "execution_count": null,
   "metadata": {},
   "outputs": [],
   "source": []
  },
  {
   "cell_type": "code",
   "execution_count": null,
   "metadata": {},
   "outputs": [],
   "source": []
  }
 ],
 "metadata": {
  "kernelspec": {
   "display_name": "Python 3",
   "language": "python",
   "name": "python3"
  },
  "language_info": {
   "codemirror_mode": {
    "name": "ipython",
    "version": 3
   },
   "file_extension": ".py",
   "mimetype": "text/x-python",
   "name": "python",
   "nbconvert_exporter": "python",
   "pygments_lexer": "ipython3",
   "version": "3.6.6"
  }
 },
 "nbformat": 4,
 "nbformat_minor": 2
}
