{
 "cells": [
  {
   "cell_type": "markdown",
   "metadata": {},
   "source": [
    "Aside: Data Descriptors and Methods\n",
    "---\n",
    "\n",
    "- Objects can have \"members\", they include:\n",
    "    - \"Data descriptors\" are simply variables\n",
    "    - \"Methods\" are functions, sometimes called \"member functions\"\n",
    "- Members of objects can be accessed via `.`\n",
    "- Syntax `<object>.<data_descriptor>` or `<object>.<method>(<args>)`\n",
    "- The `help` function can be used to access members"
   ]
  },
  {
   "cell_type": "code",
   "execution_count": null,
   "metadata": {},
   "outputs": [],
   "source": [
    "help(int)"
   ]
  },
  {
   "cell_type": "markdown",
   "metadata": {},
   "source": [
    "### Notes\n",
    "\n",
    "- Methods which look like `__<name>__` aren't meant to be called directly\n",
    "    - They are used by the interpreter to handle things like printing, adding, subtraction, etc.\n",
    "- When a method refers to `self` or `/`, it must be ignored when calling the method\n",
    "    - i.e. `bit_length` (below) doesn't take any arguments"
   ]
  },
  {
   "cell_type": "code",
   "execution_count": null,
   "metadata": {},
   "outputs": [],
   "source": [
    "help(int.bit_length)"
   ]
  },
  {
   "cell_type": "markdown",
   "metadata": {},
   "source": [
    "- Example"
   ]
  },
  {
   "cell_type": "code",
   "execution_count": null,
   "metadata": {},
   "outputs": [],
   "source": [
    "a = 1\n",
    "a.bit_length()"
   ]
  },
  {
   "cell_type": "markdown",
   "metadata": {},
   "source": [
    "### Tasks\n",
    "\n",
    "1. What are the data descriptors available for an integer?\n",
    "2. Check out the `help` for a `list`\n",
    "3. Given the definitions cell below, try to use one of the methods defined for `list` on `a`\n",
    "    - Preferably, one you haven't seen before!\n",
    "    - Feel free to try more than one"
   ]
  },
  {
   "cell_type": "code",
   "execution_count": null,
   "metadata": {},
   "outputs": [],
   "source": []
  },
  {
   "cell_type": "code",
   "execution_count": null,
   "metadata": {},
   "outputs": [],
   "source": [
    "# definitions\n",
    "a = [1, 2, 3]"
   ]
  },
  {
   "cell_type": "code",
   "execution_count": null,
   "metadata": {},
   "outputs": [],
   "source": []
  },
  {
   "cell_type": "code",
   "execution_count": null,
   "metadata": {},
   "outputs": [],
   "source": []
  },
  {
   "cell_type": "code",
   "execution_count": null,
   "metadata": {},
   "outputs": [],
   "source": []
  }
 ],
 "metadata": {
  "kernelspec": {
   "display_name": "Python 3",
   "language": "python",
   "name": "python3"
  },
  "language_info": {
   "codemirror_mode": {
    "name": "ipython",
    "version": 3
   },
   "file_extension": ".py",
   "mimetype": "text/x-python",
   "name": "python",
   "nbconvert_exporter": "python",
   "pygments_lexer": "ipython3",
   "version": "3.7.0"
  }
 },
 "nbformat": 4,
 "nbformat_minor": 2
}
