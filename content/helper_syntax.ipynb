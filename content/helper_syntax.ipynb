{
 "cells": [
  {
   "cell_type": "markdown",
   "metadata": {},
   "source": [
    "Helper Syntax\n",
    "---\n",
    "\n",
    "In my notes and questions, you will come across some syntax you should be aware of:\n",
    "\n",
    "1. `<Shift-Enter>`: This is a keystroke. Hold `Shift`, press `Enter`. Keys will always be capitalized (i.e. `<Tab>` means press `Tab`)\n",
    "2. `<var1> <operator> <var2>`: This means I want you to enter something, or I am demonstrating a pattern.\n",
    "    - In this case, I am showing a binary operator (e.g. multiplication) between 2 variables `var1,var2`"
   ]
  }
 ],
 "metadata": {
  "kernelspec": {
   "display_name": "Python 3",
   "language": "python",
   "name": "python3"
  },
  "language_info": {
   "codemirror_mode": {
    "name": "ipython",
    "version": 3
   },
   "file_extension": ".py",
   "mimetype": "text/x-python",
   "name": "python",
   "nbconvert_exporter": "python",
   "pygments_lexer": "ipython3",
   "version": "3.6.6"
  }
 },
 "nbformat": 4,
 "nbformat_minor": 2
}
