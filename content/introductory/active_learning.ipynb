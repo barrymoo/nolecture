{
 "cells": [
  {
   "cell_type": "markdown",
   "metadata": {},
   "source": [
    "Active Learning\n",
    "---\n",
    "\n",
    "- Using a variant of Process Oriented Guided Inquiry Learning (POGIL) during this workshop\n",
    "- Every section will introduce a concept followed by some tasks to reinforce the section\n",
    "- Keep this quote in mind:\n",
    "> \"Mistakes are the portals to discovery\" - James Joyce\n",
    "\n",
    "    - __Python generates useful error messages, read them!__\n",
    "- Learn at your own pace\n",
    "- Struggle a little, but don't forget we are here to help!\n",
    "\n",
    "Let's look at an simple example:"
   ]
  },
  {
   "cell_type": "markdown",
   "metadata": {},
   "source": [
    "Addition in Python\n",
    "---\n",
    "\n",
    "To add two numbers in Python, use: `<number> + <number>`\n",
    "\n",
    "### Tasks\n",
    "\n",
    "1. Add `2` and `3`\n",
    "2. Add `4` and `5`\n",
    "3. The multiplication operator is `*`, complete 1. and 2. with multiplication"
   ]
  },
  {
   "cell_type": "code",
   "execution_count": null,
   "metadata": {},
   "outputs": [],
   "source": []
  },
  {
   "cell_type": "code",
   "execution_count": null,
   "metadata": {},
   "outputs": [],
   "source": []
  },
  {
   "cell_type": "code",
   "execution_count": null,
   "metadata": {},
   "outputs": [],
   "source": []
  },
  {
   "cell_type": "code",
   "execution_count": null,
   "metadata": {},
   "outputs": [],
   "source": []
  }
 ],
 "metadata": {
  "kernelspec": {
   "display_name": "Python 3",
   "language": "python",
   "name": "python3"
  },
  "language_info": {
   "codemirror_mode": {
    "name": "ipython",
    "version": 3
   },
   "file_extension": ".py",
   "mimetype": "text/x-python",
   "name": "python",
   "nbconvert_exporter": "python",
   "pygments_lexer": "ipython3",
   "version": "3.6.6"
  }
 },
 "nbformat": 4,
 "nbformat_minor": 2
}
