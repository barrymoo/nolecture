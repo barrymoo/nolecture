{
 "cells": [
  {
   "cell_type": "markdown",
   "metadata": {},
   "source": [
    "Active Learning\n",
    "---\n",
    "\n",
    "- Using a variant of Process Oriented Guided Inquiry Learning (POGIL) during this workshop\n",
    "- Every section will introduce a concept followed by some tasks to reinforce the section\n",
    "- Keep this quote in mind:\n",
    "> \"Mistakes are the portals to discovery\" - James Joyce\n",
    "\n",
    "    - __Python generates useful error messages, read them!__\n",
    "- Learn at your own pace\n",
    "- Struggle a little, but don't forget we are here to help!\n",
    "\n",
    "Let's look at an simple example:"
   ]
  },
  {
   "cell_type": "markdown",
   "metadata": {},
   "source": [
    "Addition in Python\n",
    "---\n",
    "\n",
    "The addition operator is `+` and is used to add two values\n",
    "\n",
    "- Syntax: `<value> <operator> <value>`\n",
    "- Example: `1 + 2`\n",
    "\n",
    "### Tasks\n",
    "\n",
    "1. Using the addition operator, add\n",
    "    - 2 and 3\n",
    "    - 4 and 5\n",
    "2. The multiplication operator is `*`, complete 1. with multiplication\n",
    "3. If I wrote `\"hello\" + \"world\"` what do you think would happen? Try it."
   ]
  },
  {
   "cell_type": "code",
   "execution_count": null,
   "metadata": {},
   "outputs": [],
   "source": []
  },
  {
   "cell_type": "code",
   "execution_count": null,
   "metadata": {},
   "outputs": [],
   "source": []
  },
  {
   "cell_type": "code",
   "execution_count": null,
   "metadata": {},
   "outputs": [],
   "source": []
  },
  {
   "cell_type": "code",
   "execution_count": null,
   "metadata": {},
   "outputs": [],
   "source": []
  }
 ],
 "metadata": {
  "kernelspec": {
   "display_name": "Python 3",
   "language": "python",
   "name": "python3"
  },
  "language_info": {
   "codemirror_mode": {
    "name": "ipython",
    "version": 3
   },
   "file_extension": ".py",
   "mimetype": "text/x-python",
   "name": "python",
   "nbconvert_exporter": "python",
   "pygments_lexer": "ipython3",
   "version": "3.7.5rc1"
  }
 },
 "nbformat": 4,
 "nbformat_minor": 2
}
