{
 "cells": [
  {
   "cell_type": "markdown",
   "metadata": {},
   "source": [
    "Notebook Cells\n",
    "---\n",
    "\n",
    "Basically 2 types:\n",
    "\n",
    "1. Markdown:\n",
    "    - A simple language which converts to HTML\n",
    "    - Jupyter Docs: http://jupyter-notebook.readthedocs.io/en/latest/examples/Notebook/Working%20With%20Markdown%20Cells.html\n",
    "    - Use these to document your work\n",
    "    - Write equations using $\\LaTeX$: $ \\frac{1}{N}\\Sigma_i n_i $, or on it's own line:\n",
    "$$ \\frac{1}{N}\\Sigma_i n_i $$\n",
    "    - Write code: `x = 1`, or highlighted on it's own line:\n",
    "```python\n",
    "x = 1\n",
    "```\n",
    "2. Code:\n",
    "    - Where you write your code."
   ]
  },
  {
   "cell_type": "markdown",
   "metadata": {},
   "source": [
    "### Modes\n",
    "\n",
    "- The blue bar on the left represents the current cell focus\n",
    "- Two modes:\n",
    "    - Edit mode: blinking cursor, for typing documentation and code\n",
    "        - Press `<Esc>` to exit edit mode\n",
    "    - Command mode: no cursor, for commands\n",
    "        - Press `<Enter>` to enter edit mode on cell"
   ]
  },
  {
   "cell_type": "markdown",
   "metadata": {},
   "source": [
    "### How do you work with them:\n",
    "\n",
    "- In edit mode, run the following keystrokes on the next cell:\n",
    "    - `<Shift-Enter>`\n",
    "    - `<Ctrl-Enter>`"
   ]
  },
  {
   "cell_type": "code",
   "execution_count": null,
   "metadata": {},
   "outputs": [],
   "source": [
    "x = 1\n",
    "print(x)"
   ]
  },
  {
   "cell_type": "markdown",
   "metadata": {},
   "source": [
    "What did they do?\n",
    "\n",
    "- Creating cells:\n",
    "    - In command mode:\n",
    "        - Above current cell, press `a`\n",
    "        - Below current cell, press `b`\n",
    "    - In edit mode:\n",
    "        - Above current cell, `<Esc-a>`\n",
    "        - Below current cell, `<Esc-b>`\n",
    "- Converting between types:\n",
    "    - To convert to Markdown cell: `<Esc-m>`\n",
    "    - To convert to code cell: `<Esc-y>`"
   ]
  }
 ],
 "metadata": {
  "kernelspec": {
   "display_name": "Python 3",
   "language": "python",
   "name": "python3"
  },
  "language_info": {
   "codemirror_mode": {
    "name": "ipython",
    "version": 3
   },
   "file_extension": ".py",
   "mimetype": "text/x-python",
   "name": "python",
   "nbconvert_exporter": "python",
   "pygments_lexer": "ipython3",
   "version": "3.7.0"
  }
 },
 "nbformat": 4,
 "nbformat_minor": 2
}
