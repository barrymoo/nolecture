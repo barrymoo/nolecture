{
 "cells": [
  {
   "cell_type": "markdown",
   "metadata": {},
   "source": [
    "Helper Syntax\n",
    "---\n",
    "\n",
    "In the Notebook, you will encounter some syntax you __must__ understand:\n",
    "\n",
    "1. `<Shift-Enter>`: This is a keystroke.\n",
    "    - Hold `Shift`, press `Enter`.\n",
    "    - Keystrokes will always start with a capital letter!\n",
    "2. `<var1> <operator> <var2>`: This is a pattern, I want you to fill it in!\n",
    "    - patterns will always start with a lowercase letter\n",
    "    - Given the above pattern, using the multiplication operator (`*`) one could multiply the variables `a` and `b` together in the following cell:"
   ]
  },
  {
   "cell_type": "code",
   "execution_count": null,
   "metadata": {},
   "outputs": [],
   "source": [
    "a = 1\n",
    "b = 2\n",
    "# pattern was `<var1> <operator> <var2>`\n",
    "a * b"
   ]
  },
  {
   "cell_type": "markdown",
   "metadata": {},
   "source": [
    "Note the omission of `<` and `>`! It is imperative you understand this."
   ]
  }
 ],
 "metadata": {
  "kernelspec": {
   "display_name": "Python 3",
   "language": "python",
   "name": "python3"
  },
  "language_info": {
   "codemirror_mode": {
    "name": "ipython",
    "version": 3
   },
   "file_extension": ".py",
   "mimetype": "text/x-python",
   "name": "python",
   "nbconvert_exporter": "python",
   "pygments_lexer": "ipython3",
   "version": "3.6.6"
  }
 },
 "nbformat": 4,
 "nbformat_minor": 2
}
