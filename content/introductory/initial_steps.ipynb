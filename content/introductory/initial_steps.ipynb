{
 "cells": [
  {
   "cell_type": "markdown",
   "metadata": {},
   "source": [
    "Initial Steps\n",
    "---\n",
    "\n",
    "- In your browser navigate to https://hub.crc.pitt.edu\n",
    "- Click \"Start My Server\"\n",
    "- Under \"Select a job profile:\" choose \"Host Process\" and click \"Spawn\"\n",
    "- Get this notebook:\n",
    "    - First open up a Terminal via. `File` $\\rightarrow$ `New Launcher` $\\rightarrow$ `Terminal`\n",
    "    - `git clone https://github.com/barrymoo/nolecture-notebooks.git`"
   ]
  }
 ],
 "metadata": {
  "kernelspec": {
   "display_name": "Python 3",
   "language": "python",
   "name": "python3"
  },
  "language_info": {
   "codemirror_mode": {
    "name": "ipython",
    "version": 3
   },
   "file_extension": ".py",
   "mimetype": "text/x-python",
   "name": "python",
   "nbconvert_exporter": "python",
   "pygments_lexer": "ipython3",
   "version": "3.7.5rc1"
  }
 },
 "nbformat": 4,
 "nbformat_minor": 2
}
