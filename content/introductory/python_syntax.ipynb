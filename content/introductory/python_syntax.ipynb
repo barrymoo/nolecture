{
 "cells": [
  {
   "cell_type": "markdown",
   "metadata": {},
   "source": [
    "Python Syntax\n",
    "---"
   ]
  },
  {
   "cell_type": "markdown",
   "metadata": {},
   "source": [
    "### Comments\n",
    "\n",
    "- Lines beginning with `#` are completely ignored\n",
    "- Everything after `#` is ignored\n",
    "- Comments help increase the readability of code"
   ]
  },
  {
   "cell_type": "code",
   "execution_count": null,
   "metadata": {},
   "outputs": [],
   "source": [
    "# print(1)\n",
    "print(1) # this is ignored"
   ]
  },
  {
   "cell_type": "markdown",
   "metadata": {},
   "source": [
    "### Jupyter Tips\n",
    "\n",
    "- Comments can be separated into Markdown cells, but don't need to be\n",
    "- In edit mode on code cells:\n",
    "    - Try highlighting some code with your mouse and use `<Ctrl-/>` a few times\n",
    "        - This behavior is called \"toggling comments\""
   ]
  },
  {
   "cell_type": "markdown",
   "metadata": {},
   "source": [
    "### Whitespace\n",
    "\n",
    "In Python, unlike many programming languages, whitespace is important! Run the following cell:"
   ]
  },
  {
   "cell_type": "code",
   "execution_count": null,
   "metadata": {},
   "outputs": [],
   "source": [
    "print(\"hello\")\n",
    " print(\"world\")"
   ]
  },
  {
   "cell_type": "markdown",
   "metadata": {},
   "source": [
    "Oh, we are hit with an `IndentationError`. First, we should discuss the anatomy of an error message in Python\n",
    "\n",
    "### Anatomy of an Error\n",
    "\n",
    "```\n",
    "1.  File \"<ipython-input-1-2f431114b51f>\", line 2\n",
    "2.    print(\"world\")\n",
    "3.    ^\n",
    "4. IndentationError: unexpected indent\n",
    "```\n",
    "\n",
    "- Line 1:\n",
    "    - Summarizes where the error occurred in the cell\n",
    "    - The part in quotes is specific to Jupyter\n",
    "    - `line 2` suggests the error occurred on line 2 (relative to the top of the cell)\n",
    "- Line 2 & 3:\n",
    "    - Summarizes where the error occurred on the line\n",
    "    - The `^` is pointing the user to the `print` statement\n",
    "- Line 4:\n",
    "    - Summarizes what error occurred"
   ]
  },
  {
   "cell_type": "markdown",
   "metadata": {},
   "source": [
    "### Blocks\n",
    "\n",
    "Python is arranged into commonly indented _blocks_. The code above is properly written in one block as:"
   ]
  },
  {
   "cell_type": "code",
   "execution_count": null,
   "metadata": {},
   "outputs": [],
   "source": [
    "print(\"hello\")\n",
    "print(\"world\")"
   ]
  },
  {
   "cell_type": "markdown",
   "metadata": {},
   "source": [
    "Case Sensitivity\n",
    "---\n",
    "\n",
    "Python is case sensitive, i.e. you can __NOT__ do the following"
   ]
  },
  {
   "cell_type": "code",
   "execution_count": null,
   "metadata": {},
   "outputs": [],
   "source": [
    "Z = 1\n",
    "print(z)"
   ]
  },
  {
   "cell_type": "markdown",
   "metadata": {},
   "source": [
    "- You should get a `NameError` because `z` is not defined only `Z`!"
   ]
  }
 ],
 "metadata": {
  "kernelspec": {
   "display_name": "Python 3",
   "language": "python",
   "name": "python3"
  },
  "language_info": {
   "codemirror_mode": {
    "name": "ipython",
    "version": 3
   },
   "file_extension": ".py",
   "mimetype": "text/x-python",
   "name": "python",
   "nbconvert_exporter": "python",
   "pygments_lexer": "ipython3",
   "version": "3.7.5rc1"
  }
 },
 "nbformat": 4,
 "nbformat_minor": 2
}
