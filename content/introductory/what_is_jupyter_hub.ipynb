{
 "cells": [
  {
   "cell_type": "markdown",
   "metadata": {},
   "source": [
    "What did I just connect to?\n",
    "---\n",
    "\n",
    "- __JupyterHub__:\n",
    "    - Multi-user server for Jupyter Notebooks\n",
    "- What is a Jupyter Notebook? (from https://jupyter-notebook.readthedocs.io/en/stable/notebook.html)\n",
    "> The notebook extends the console-based approach to interactive computing in a qualitatively new direction, providing a web-based application suitable for capturing the whole computation process: developing, documenting, and executing code, as well as communicating the results. The Jupyter notebook combines two components:\n",
    ">\n",
    "> __A web application__: a browser-based tool for interactive authoring of documents which combine explanatory text, mathematics, computations and their rich media output.\n",
    ">\n",
    "> __Notebook documents__: a representation of all content visible in the web application, including inputs and outputs of the computations, explanatory text, mathematics, images, and rich media representations of objects.\n",
    "\n",
    "    - Note: Jupyter Notebooks are not just for Python, but we are using them to learn Python"
   ]
  }
 ],
 "metadata": {
  "kernelspec": {
   "display_name": "Python 3",
   "language": "python",
   "name": "python3"
  },
  "language_info": {
   "codemirror_mode": {
    "name": "ipython",
    "version": 3
   },
   "file_extension": ".py",
   "mimetype": "text/x-python",
   "name": "python",
   "nbconvert_exporter": "python",
   "pygments_lexer": "ipython3",
   "version": "3.6.6"
  }
 },
 "nbformat": 4,
 "nbformat_minor": 2
}
