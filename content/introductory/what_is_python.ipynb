{
 "cells": [
  {
   "cell_type": "markdown",
   "metadata": {},
   "source": [
    "What is Python?\n",
    "---\n",
    "\n",
    "- Python is an interpreted programming language. This means that code you write is read by an _interpreter_ to convert your text into pre-compiled elementary functions which can be run by the computer\n",
    "    - This is opposed to compiled languages which are compiled directly to another language which can be run by the computer\n",
    "- There are two flavors of Python\n",
    "    - 2.7 (deprecated 2020)\n",
    "    - __3.7__\n",
    "        - We are using this now!"
   ]
  }
 ],
 "metadata": {
  "kernelspec": {
   "display_name": "Python 3",
   "language": "python",
   "name": "python3"
  },
  "language_info": {
   "codemirror_mode": {
    "name": "ipython",
    "version": 3
   },
   "file_extension": ".py",
   "mimetype": "text/x-python",
   "name": "python",
   "nbconvert_exporter": "python",
   "pygments_lexer": "ipython3",
   "version": "3.7.0"
  }
 },
 "nbformat": 4,
 "nbformat_minor": 2
}
