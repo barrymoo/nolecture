{
 "cells": [
  {
   "cell_type": "markdown",
   "metadata": {},
   "source": [
    "Who Am I?\n",
    "---\n",
    "\n",
    "- Barry Moore II, PhD\n",
    "    - PhD from University at Buffalo in Theoretical Chemistry\n",
    "    - Twitter (random programming and personal stuff): @BarryMooreII\n",
    "    - GitHub (lots of Python): @barrymoo\n",
    "    - Website (random blog posts): https://www.barry-moore-ii.com\n",
    "- Center for Research Computing\n",
    "    - Technical Director\n",
    "    - Advanced Research Computing Team at Pitt\n",
    "    - 6800 compute cores\n",
    "    - 122 GPUs\n",
    "\n",
    "### Set Expectations\n",
    "\n",
    "- Started 8 years ago to solve problems in Theoretical Chemistry\n",
    "    - The point: I was a scientist similar to you\n",
    "    - It takes a long time to be okay at programming, even longer to be good\n",
    "    - Learned from doing it very wrong in a low level programming language\n",
    "- Python is a great language to start with\n",
    "    - It isn't terribly hard to be productive\n",
    "    - Doesn't mean it is easy!\n",
    "- Languages are tools!\n",
    "    - You learned how to use spreadsheets, you can do this!\n",
    "    - There are a lot of languages to choose from\n",
    "        - I always suggest using the one which people around you use!\n",
    "- You won't learn __any__ language in 3 hours!\n",
    "    - This workshop is meant to get you started."
   ]
  }
 ],
 "metadata": {
  "kernelspec": {
   "display_name": "Python 3",
   "language": "python",
   "name": "python3"
  },
  "language_info": {
   "codemirror_mode": {
    "name": "ipython",
    "version": 3
   },
   "file_extension": ".py",
   "mimetype": "text/x-python",
   "name": "python",
   "nbconvert_exporter": "python",
   "pygments_lexer": "ipython3",
   "version": "3.7.0"
  }
 },
 "nbformat": 4,
 "nbformat_minor": 2
}
