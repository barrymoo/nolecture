{
 "cells": [
  {
   "cell_type": "markdown",
   "metadata": {},
   "source": [
    "Who Am I?\n",
    "---\n",
    "\n",
    "- Barry Moore II, PhD\n",
    "    - Theoretical Chemist\n",
    "    - Twitter: @BarryMooreII\n",
    "    - GitHub: @barrymoo\n",
    "    - Website: https://www.barry-moore-ii.com\n",
    "- Center for Research Computing\n",
    "    - Advanced Research Computing Team at Pitt\n",
    "    - 6800 compute cores\n",
    "    - 122 GPUs"
   ]
  }
 ],
 "metadata": {
  "kernelspec": {
   "display_name": "Python 3",
   "language": "python",
   "name": "python3"
  },
  "language_info": {
   "codemirror_mode": {
    "name": "ipython",
    "version": 3
   },
   "file_extension": ".py",
   "mimetype": "text/x-python",
   "name": "python",
   "nbconvert_exporter": "python",
   "pygments_lexer": "ipython3",
   "version": "3.6.6"
  }
 },
 "nbformat": 4,
 "nbformat_minor": 2
}
