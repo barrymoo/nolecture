{
 "cells": [
  {
   "cell_type": "markdown",
   "metadata": {},
   "source": [
    "Why Jupyter Notebooks and Python?\n",
    "---\n",
    "\n",
    "- Allows you to integrate code and documentation seamlessly\n",
    "- Allows you to share your Notebooks online (e.g. on github)\n",
    "- Allows you to explore and massage data on the fly\n",
    "    \n",
    "#### Let's Explore the User Interface\n",
    "\n",
    "- Drop down menus\n",
    "- Tool bar\n",
    "- Keystrokes"
   ]
  }
 ],
 "metadata": {
  "kernelspec": {
   "display_name": "Python 3",
   "language": "python",
   "name": "python3"
  },
  "language_info": {
   "codemirror_mode": {
    "name": "ipython",
    "version": 3
   },
   "file_extension": ".py",
   "mimetype": "text/x-python",
   "name": "python",
   "nbconvert_exporter": "python",
   "pygments_lexer": "ipython3",
   "version": "3.6.6"
  }
 },
 "nbformat": 4,
 "nbformat_minor": 2
}
