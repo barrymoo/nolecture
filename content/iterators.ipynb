{
 "cells": [
  {
   "cell_type": "markdown",
   "metadata": {},
   "source": [
    "Iterators\n",
    "---\n",
    "\n",
    "Previously, I called `for value in iterator` a membership based for loop. However, I didn't explain the `iterator` part at all. Some iterators, operate a little differently. For example, `range` doesn't actually build a `list` in memory even though it looked very similar to our `for value in list` example previously. Instead a `range` operates in \"constant stack space\", i.e. the space it occupies in memory never changes. For example,\n",
    "\n",
    "```python\n",
    "n = 10 ** 12 # a really huge number\n",
    "for x in range(n):\n",
    "    if x >= 10: break\n",
    "    else: print(x)\n",
    "```\n",
    "\n",
    "If the above code did build an object to store all of the numbers from 0 to `10 ** 12` it would fail, but iterators are special.\n",
    "\n",
    "Other iterators:\n",
    "\n",
    "- `enumerate`, e.g.\n",
    "\n",
    "```python\n",
    "L = [1, 2, 3, 4]\n",
    "for index in range(len(L)):\n",
    "    print(index, L[index])\n",
    "    \n",
    "for index, item in enumerate(L):\n",
    "    print(index, item)\n",
    "```\n",
    "\n",
    "- `zip`:\n",
    "\n",
    "```python\n",
    "L = [2, 4, 6]\n",
    "R = [3, 6, 9]\n",
    "for l, r in zip(L, R):\n",
    "    print(l * r)\n",
    "```\n",
    "\n",
    "- `map`:\n",
    "\n",
    "```python\n",
    "for squares in map(lambda x: x ** 2, range(10)):\n",
    "    print(squares)\n",
    "```\n",
    "\n",
    "- `filter`:\n",
    "\n",
    "```python\n",
    "for evens in filter(lambda x: x % 2 == 0, range(10)):\n",
    "    print(evens)\n",
    "```\n",
    "\n",
    "#### Tasks\n",
    "\n",
    "1. Use `enumerate` and `range` to print the index and value of even integers between [0, 10).\n",
    "2. Use `enumerate` and `zip` to sum the two lists into a new list `c`:\n",
    "    - `a = [1, 2, 3]`\n",
    "    - `b = [3, 4, 5]`\n",
    "    - Initialize `c = [None] * len(a)`\n",
    "    - Try `list(enumerate(zip(a, b)))` to see the shape of what to unpack\n",
    "3. Use `map` to print the square of the cubes in the range [0, 10) using only anonymous functions\n",
    "4. Use `filter` to print the cube of even squares in the range [0, 10) using only anonymous functions"
   ]
  },
  {
   "cell_type": "code",
   "execution_count": null,
   "metadata": {},
   "outputs": [],
   "source": []
  },
  {
   "cell_type": "code",
   "execution_count": null,
   "metadata": {},
   "outputs": [],
   "source": []
  },
  {
   "cell_type": "code",
   "execution_count": null,
   "metadata": {},
   "outputs": [],
   "source": []
  },
  {
   "cell_type": "code",
   "execution_count": null,
   "metadata": {},
   "outputs": [],
   "source": []
  }
 ],
 "metadata": {
  "kernelspec": {
   "display_name": "Python 3",
   "language": "python",
   "name": "python3"
  },
  "language_info": {
   "codemirror_mode": {
    "name": "ipython",
    "version": 3
   },
   "file_extension": ".py",
   "mimetype": "text/x-python",
   "name": "python",
   "nbconvert_exporter": "python",
   "pygments_lexer": "ipython3",
   "version": "3.6.6"
  }
 },
 "nbformat": 4,
 "nbformat_minor": 2
}
