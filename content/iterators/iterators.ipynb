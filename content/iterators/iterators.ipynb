{
 "cells": [
  {
   "cell_type": "markdown",
   "metadata": {},
   "source": [
    "Iterable and Iterator\n",
    "---\n",
    "\n",
    "Previously, we looked at `for` loops with the `range` function and I told you `range` was an \"iterable\", but didn't explain further. An \"iterable\" is very similar to a list, e.g. you can access elements via the bracket syntax, but the behavior behind the scenes is different. A list contains every object in memory, but the `range` object only stores 3 data descriptors: `start`, `stop`, and `step`. Using the descriptors one doesn't need to store every element inside the range, it is simply calculated.\n",
    "\n",
    "Iterators are similar to iterables, but the operation behind the scenes is a bit different too. Iterators contain enough information to generate the next object in the series. The `next` function will get the next object in the series.\n",
    "\n",
    "- Example:"
   ]
  },
  {
   "cell_type": "code",
   "execution_count": null,
   "metadata": {},
   "outputs": [],
   "source": [
    "a = iter(range(2))\n",
    "next(a)"
   ]
  },
  {
   "cell_type": "code",
   "execution_count": null,
   "metadata": {},
   "outputs": [],
   "source": [
    "next(a)"
   ]
  },
  {
   "cell_type": "code",
   "execution_count": null,
   "metadata": {},
   "outputs": [],
   "source": [
    "next(a)"
   ]
  },
  {
   "cell_type": "markdown",
   "metadata": {},
   "source": [
    "### Notes\n",
    "\n",
    "- `range`s can be converted into iterators via the `iter` function\n",
    "- `a` is an iterator which can be thought of like `[0, 1]`\n",
    "- The first `next` \"consumes\" the `0` object from the iterator\n",
    "- The second `next` consumes the `1`\n",
    "- The third `next` fails with a `StopIteration` error because the iterator is empty!\n",
    "- Iterable objects (i.e. ranges) are not consumable"
   ]
  },
  {
   "cell_type": "markdown",
   "metadata": {},
   "source": [
    "Example Iterators\n",
    "---\n",
    "\n",
    "- I am going to show a lot of examples below. Try to guess what is printed before running the cell!\n",
    "\n",
    "### Enumerate\n",
    "\n",
    "- `enumerate`: packages each index with each element in a container\n",
    "- Example (without `enumerate`):"
   ]
  },
  {
   "cell_type": "code",
   "execution_count": null,
   "metadata": {},
   "outputs": [],
   "source": [
    "l = [1, 2, 3]\n",
    "for idx in range(len(l)):\n",
    "    print(idx, l[idx])"
   ]
  },
  {
   "cell_type": "markdown",
   "metadata": {},
   "source": [
    "- Example (\"packed\"):"
   ]
  },
  {
   "cell_type": "code",
   "execution_count": null,
   "metadata": {},
   "outputs": [],
   "source": [
    "m = [4, 5, 6]\n",
    "for i in enumerate(m):\n",
    "    print(i)"
   ]
  },
  {
   "cell_type": "markdown",
   "metadata": {},
   "source": [
    "### Notes\n",
    "\n",
    "- What is the type of each `i` above?\n",
    "- `tuple`s can be \"unpacked\", example:"
   ]
  },
  {
   "cell_type": "code",
   "execution_count": null,
   "metadata": {},
   "outputs": [],
   "source": [
    "a, b = (0, 1)\n",
    "print(a)\n",
    "print(b)"
   ]
  },
  {
   "cell_type": "markdown",
   "metadata": {},
   "source": [
    "- Coming back to the example and using the unpacking syntax"
   ]
  },
  {
   "cell_type": "code",
   "execution_count": null,
   "metadata": {},
   "outputs": [],
   "source": [
    "m = [4, 5, 6]\n",
    "for idx, i in enumerate(m):\n",
    "    print(idx, i)"
   ]
  },
  {
   "cell_type": "markdown",
   "metadata": {},
   "source": [
    "### Zip\n",
    "\n",
    "- `zip` packages each element of multiple containers\n",
    "- Example (going directly to the unpacking syntax"
   ]
  },
  {
   "cell_type": "code",
   "execution_count": null,
   "metadata": {},
   "outputs": [],
   "source": [
    "left = [1, 2, 3]\n",
    "right = [3, 2, 1]\n",
    "for l, r in zip(left, right):\n",
    "    print(l, r, l + r)"
   ]
  },
  {
   "cell_type": "markdown",
   "metadata": {},
   "source": [
    "### Notes\n",
    "\n",
    "- A zip will only create tuples if enough entries exist in both lists\n",
    "- How many lines with the cell below print (feel free to guess)?"
   ]
  },
  {
   "cell_type": "code",
   "execution_count": null,
   "metadata": {},
   "outputs": [],
   "source": [
    "a = [1, 2]\n",
    "b = [2]\n",
    "for x, y in zip(a, b):\n",
    "    print(x, y)"
   ]
  },
  {
   "cell_type": "markdown",
   "metadata": {},
   "source": [
    "- Because the `2` in `a` has no pair, it is skipped\n",
    "- Also, note you can combine more than 2 things! example:"
   ]
  },
  {
   "cell_type": "code",
   "execution_count": null,
   "metadata": {},
   "outputs": [],
   "source": [
    "a = [1, 2]\n",
    "b = [3, 4]\n",
    "c = [5, 6]\n",
    "for x, y, z in zip(a, b, c):\n",
    "    print(x, y, z)"
   ]
  },
  {
   "cell_type": "markdown",
   "metadata": {},
   "source": [
    "### Maps\n",
    "\n",
    "- `map` applies a function to each element in a container\n",
    "- Example:"
   ]
  },
  {
   "cell_type": "code",
   "execution_count": null,
   "metadata": {},
   "outputs": [],
   "source": [
    "a = [1, 2, 3]\n",
    "for x in map(lambda x: x * 2, a):\n",
    "    print(x)"
   ]
  },
  {
   "cell_type": "markdown",
   "metadata": {},
   "source": [
    "- Combined with a `zip`, remember `tuple`s are ordered!"
   ]
  },
  {
   "cell_type": "code",
   "execution_count": null,
   "metadata": {},
   "outputs": [],
   "source": [
    "a = [1, 2, 3]\n",
    "b = [6, 5, 4]\n",
    "for x in map(lambda t: t[0] + t[1], zip(a, b)):\n",
    "    print(x)"
   ]
  },
  {
   "cell_type": "markdown",
   "metadata": {},
   "source": [
    "### Filter\n",
    "\n",
    "- `filter` takes a function which returns a boolean, if the function returns `True` the element will be returned\n",
    "- Example:"
   ]
  },
  {
   "cell_type": "code",
   "execution_count": null,
   "metadata": {},
   "outputs": [],
   "source": [
    "for evens in filter(lambda x: x % 2 == 0, range(5)):\n",
    "    print(evens)"
   ]
  },
  {
   "cell_type": "markdown",
   "metadata": {},
   "source": [
    "### Tasks\n",
    "\n",
    "Going to use a range syntax you may have seen in math:\n",
    "\n",
    "- `[begin, end]` - means both begin and end are included\n",
    "- `(begin, end)` - means neither being nor end are included\n",
    "\n",
    "\n",
    "1. Use `enumerate` and `range` (not `filter`) to print the index and value of even integers between [0, 10)\n",
    "2. Use `enumerate` and `zip` to sum `a` and `b` into `c` (definitions below)\n",
    "    - Hint: use `list(enumerate(zip(a, b)))` to see the shape of what to unpack\n",
    "3. Use `map` to print the squares of values in the range [0, 10) using only anonymous functions\n",
    "4. Use `filter` to print the cubes of even values in the range [0, 10) using only anonymous functions"
   ]
  },
  {
   "cell_type": "code",
   "execution_count": null,
   "metadata": {},
   "outputs": [],
   "source": []
  },
  {
   "cell_type": "code",
   "execution_count": null,
   "metadata": {},
   "outputs": [],
   "source": [
    "# definitions for \"2.\"\n",
    "a = [1, 2, 3]\n",
    "b = [3, 4, 5]\n",
    "c = [None] * 3"
   ]
  },
  {
   "cell_type": "code",
   "execution_count": null,
   "metadata": {},
   "outputs": [],
   "source": []
  },
  {
   "cell_type": "code",
   "execution_count": null,
   "metadata": {},
   "outputs": [],
   "source": []
  },
  {
   "cell_type": "code",
   "execution_count": null,
   "metadata": {},
   "outputs": [],
   "source": []
  }
 ],
 "metadata": {
  "kernelspec": {
   "display_name": "Python 3",
   "language": "python",
   "name": "python3"
  },
  "language_info": {
   "codemirror_mode": {
    "name": "ipython",
    "version": 3
   },
   "file_extension": ".py",
   "mimetype": "text/x-python",
   "name": "python",
   "nbconvert_exporter": "python",
   "pygments_lexer": "ipython3",
   "version": "3.7.0"
  }
 },
 "nbformat": 4,
 "nbformat_minor": 2
}
