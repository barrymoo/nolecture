{
 "cells": [
  {
   "cell_type": "markdown",
   "metadata": {},
   "source": [
    "Loops\n",
    "---\n",
    "\n",
    "- \"Loops\" provide you a way to do some procedure on each object in a container\n",
    "- Syntax:\n",
    "```python\n",
    "for <temporary> in <container>:\n",
    "    # do something with <temporary>\n",
    "```\n",
    "- Example:"
   ]
  },
  {
   "cell_type": "code",
   "execution_count": null,
   "metadata": {},
   "outputs": [],
   "source": [
    "for i in [1, 2, 3]:\n",
    "    print(i + 1)"
   ]
  },
  {
   "cell_type": "markdown",
   "metadata": {},
   "source": [
    "- Summary of above,\n",
    "    - `i` takes on each value in the list `[1, 2, 3]`\n",
    "    - The \"body\" of the `for` loop increments `i` by 1 and `print`s the result\n",
    "- A \"body\", is an indented block (by 4 spaces) which contains the code to be applied to `i`\n",
    "    - Most times, Jupyter will handle the spacing for you automatically\n",
    "    - Use `<Tab>` to indent right and `<Shift-Tab>` to indent left"
   ]
  },
  {
   "cell_type": "markdown",
   "metadata": {},
   "source": [
    "Aside: `for` with `range`\n",
    "---\n",
    "\n",
    "- The `range` function will generate an \"iterable\" (think list, but we will discuss in detail later)\n",
    "- Syntax: `range(n)` where `n` is an integer\n",
    "- Example:"
   ]
  },
  {
   "cell_type": "code",
   "execution_count": null,
   "metadata": {},
   "outputs": [],
   "source": [
    "for i in range(5):\n",
    "    print(i)"
   ]
  },
  {
   "cell_type": "markdown",
   "metadata": {},
   "source": [
    "Tasks\n",
    "---\n",
    "\n",
    "1) Using a `for` loop with the `range` function generate `c` by doing the element-wise addition of `a` with `b`\n",
    "- Hint: you need the `append` function from the `list`s section"
   ]
  },
  {
   "cell_type": "code",
   "execution_count": null,
   "metadata": {},
   "outputs": [],
   "source": [
    "# Definitions\n",
    "a = [1, 2, 3, 4]\n",
    "b = [5, 6, 7, 8]\n",
    "c = []"
   ]
  },
  {
   "cell_type": "code",
   "execution_count": null,
   "metadata": {},
   "outputs": [],
   "source": []
  },
  {
   "cell_type": "markdown",
   "metadata": {},
   "source": [
    "2) Do the same thing, but this time using a preallocated `c`"
   ]
  },
  {
   "cell_type": "code",
   "execution_count": null,
   "metadata": {},
   "outputs": [],
   "source": [
    "# Definitions\n",
    "a = [1, 2, 3, 4]\n",
    "b = [5, 6, 7, 8]\n",
    "c = [None] * len(a) # i.e. `[None] * 4` or `[None, None, None, None]` printed below for clarity\n",
    "c"
   ]
  },
  {
   "cell_type": "code",
   "execution_count": null,
   "metadata": {},
   "outputs": [],
   "source": []
  }
 ],
 "metadata": {
  "kernelspec": {
   "display_name": "Python 3",
   "language": "python",
   "name": "python3"
  },
  "language_info": {
   "codemirror_mode": {
    "name": "ipython",
    "version": 3
   },
   "file_extension": ".py",
   "mimetype": "text/x-python",
   "name": "python",
   "nbconvert_exporter": "python",
   "pygments_lexer": "ipython3",
   "version": "3.7.0"
  }
 },
 "nbformat": 4,
 "nbformat_minor": 2
}
