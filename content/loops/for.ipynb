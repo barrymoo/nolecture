{
 "cells": [
  {
   "cell_type": "markdown",
   "metadata": {},
   "source": [
    "Loops\n",
    "---\n",
    "\n",
    "- \"Loops\" abstract away repetition \n",
    "\n",
    "### Motivation"
   ]
  },
  {
   "cell_type": "code",
   "execution_count": null,
   "metadata": {},
   "outputs": [],
   "source": [
    "a = [1, 2, 3, 4, 5]\n",
    "a"
   ]
  },
  {
   "cell_type": "markdown",
   "metadata": {},
   "source": [
    "Let's say I want to double every element in `a` to produce `b`, I could write:"
   ]
  },
  {
   "cell_type": "code",
   "execution_count": null,
   "metadata": {},
   "outputs": [],
   "source": [
    "b = []\n",
    "b.append(a[0] * 2)\n",
    "b.append(a[1] * 2)\n",
    "b.append(a[2] * 2)\n",
    "b.append(a[3] * 2)\n",
    "b.append(a[4] * 2)\n",
    "b"
   ]
  },
  {
   "cell_type": "markdown",
   "metadata": {},
   "source": [
    "- This repetition will become unbearable quickly. What if a list had thousands of entries?\n",
    "- __Important note before continuing: loops can be difficult for beginners__\n",
    "    - Reminders:\n",
    "        - Accessing elements of data structures via bracket syntax: `a_data_structure[an_index]`\n",
    "        - In Python, the indices of data structures start at 0\n",
    "\n",
    "### Loops Handle Repetitive Tasks\n",
    "\n",
    "- In the above problem, you want to abstract over the indices of `a`\n",
    "    - __What are the values of the indices of `a`?__\n",
    "        - Do not continue until you answer this question\n",
    "        - If you are unsure of your answer, ask me!"
   ]
  },
  {
   "cell_type": "markdown",
   "metadata": {},
   "source": [
    "- The `for` loop syntax:\n",
    "```python\n",
    "for <temporary> in <data_structure>:\n",
    "    <body>\n",
    "```\n",
    "- Example (same problem as above):"
   ]
  },
  {
   "cell_type": "code",
   "execution_count": null,
   "metadata": {},
   "outputs": [],
   "source": [
    "b = []\n",
    "for idx in [0, 1, 2, 3, 4]:\n",
    "    b.append(a[idx] * 2)"
   ]
  },
  {
   "cell_type": "markdown",
   "metadata": {},
   "source": [
    "### Breaking Down the Syntax\n",
    "\n",
    "- `idx` temporarily takes on each value \"in\" the list `[0, 1, 2, 3, 4]`\n",
    "- The \"body\" of the `for` loop multiplies `a[idx]` by 2 and `append`s the result to `b`\n",
    "    - `idx` will \"iterate\" through the body five times because `len([0, 1, 2, 3, 4])`\n",
    "    - In table form:\n",
    "    \n",
    "|Iteration|`idx`|`a[idx]`|`a[idx] * 2`|\n",
    "|---|---|---|---|\n",
    "|0|0|1|2|\n",
    "|1|1|2|4|\n",
    "|2|2|3|6|\n",
    "|3|3|4|8|\n",
    "|4|4|5|10|\n",
    "\n",
    "- The body is an indented block (by 4 spaces) which contains a procedure\n",
    "    - Most times, Jupyter will handle the spacing for you automatically\n",
    "    - Use `<Tab>` to indent right and `<Shift-Tab>` to indent left\""
   ]
  },
  {
   "cell_type": "markdown",
   "metadata": {},
   "source": [
    "Aside: `for` with `range`\n",
    "---\n",
    "\n",
    "- The `range` function will generate an \"iterable\" (think list, but we will discuss in detail later)\n",
    "- Syntax: `range(n)` where `n` is an integer\n",
    "- Example:\n",
    "    - The `list` function is used to show you what is inside a `range object"
   ]
  },
  {
   "cell_type": "code",
   "execution_count": 2,
   "metadata": {},
   "outputs": [
    {
     "data": {
      "text/plain": [
       "[0, 1, 2, 3, 4]"
      ]
     },
     "execution_count": 2,
     "metadata": {},
     "output_type": "execute_result"
    }
   ],
   "source": [
    "list(range(5))"
   ]
  },
  {
   "cell_type": "markdown",
   "metadata": {},
   "source": [
    "- `range` objects are often used to represent indices of object\n",
    "    - Rewriting the example above using `for` and `range`:"
   ]
  },
  {
   "cell_type": "code",
   "execution_count": 4,
   "metadata": {},
   "outputs": [
    {
     "data": {
      "text/plain": [
       "[2, 4, 6, 8, 10]"
      ]
     },
     "execution_count": 4,
     "metadata": {},
     "output_type": "execute_result"
    }
   ],
   "source": [
    "a = [1, 2, 3, 4, 5]\n",
    "b = []\n",
    "for idx in range(5):\n",
    "    b.append(a[idx] * 2)\n",
    "b"
   ]
  },
  {
   "cell_type": "markdown",
   "metadata": {},
   "source": [
    "- Awesome, but the `range(5)` isn't generic\n",
    "    - Using the `len` function on `a` we get the number of elements, i.e. 5\n",
    "- Example:"
   ]
  },
  {
   "cell_type": "code",
   "execution_count": 5,
   "metadata": {},
   "outputs": [
    {
     "data": {
      "text/plain": [
       "[2, 4, 6, 8, 10]"
      ]
     },
     "execution_count": 5,
     "metadata": {},
     "output_type": "execute_result"
    }
   ],
   "source": [
    "a = [1, 2, 3, 4, 5]\n",
    "b = []\n",
    "for idx in range(len(a)):\n",
    "    b.append(a[idx] * 2)\n",
    "b"
   ]
  },
  {
   "cell_type": "markdown",
   "metadata": {},
   "source": [
    "Tasks\n",
    "---\n",
    "\n",
    "1) Using a `for` loop with the `range` function generate `c` by doing the element-wise addition of `a` with `b`\n",
    "- Hints:\n",
    "    - You need the `append` function from the `list`s section\n",
    "    - `c` below should equal `[6, 8, 10, 12]`"
   ]
  },
  {
   "cell_type": "code",
   "execution_count": null,
   "metadata": {},
   "outputs": [],
   "source": [
    "# Definitions\n",
    "a = [1, 2, 3, 4]\n",
    "b = [5, 6, 7, 8]\n",
    "c = []"
   ]
  },
  {
   "cell_type": "code",
   "execution_count": null,
   "metadata": {},
   "outputs": [],
   "source": []
  },
  {
   "cell_type": "markdown",
   "metadata": {},
   "source": [
    "2) Do the same thing, but this time using a preallocated `c`\n",
    "- Hint: `c` below should equal `[6, 8, 10, 12]`"
   ]
  },
  {
   "cell_type": "code",
   "execution_count": null,
   "metadata": {},
   "outputs": [],
   "source": [
    "# Definitions\n",
    "a = [1, 2, 3, 4]\n",
    "b = [5, 6, 7, 8]\n",
    "c = [None] * len(a) # i.e. `[None] * 4` or `[None, None, None, None]` printed below for clarity\n",
    "c"
   ]
  },
  {
   "cell_type": "code",
   "execution_count": null,
   "metadata": {},
   "outputs": [],
   "source": []
  }
 ],
 "metadata": {
  "kernelspec": {
   "display_name": "Python 3",
   "language": "python",
   "name": "python3"
  },
  "language_info": {
   "codemirror_mode": {
    "name": "ipython",
    "version": 3
   },
   "file_extension": ".py",
   "mimetype": "text/x-python",
   "name": "python",
   "nbconvert_exporter": "python",
   "pygments_lexer": "ipython3",
   "version": "3.7.0"
  }
 },
 "nbformat": 4,
 "nbformat_minor": 2
}
