{
 "cells": [
  {
   "cell_type": "markdown",
   "metadata": {},
   "source": [
    "Membership-based `for` Loops\n",
    "---\n",
    "\n",
    "#### Syntax\n",
    "\n",
    "```python\n",
    "for <temporary> in <iterable variable>:\n",
    "    # Do something with <temporary>, e.g.\n",
    "    print(<temporary>)\n",
    "```\n",
    "\n",
    "- An `iterable variable` could be a `list`, `set`, `dict`, etc.\n",
    "\n",
    "#### Tasks\n",
    "\n",
    "1. Write membership based `for` loops for `a`, `b`, `c`, and `d` which `print` the contents on a separate line\n",
    "    - Notice anything interesting?\n",
    "2. Use the `range` function to print the even integers from 2 to 20 (hint: `?range` will bring up documentation)\n",
    "    - Definitions: In mathematics, inclusivity (edges are included) is denoted with brackets `[]` and exclusivity (edges are not included) with parenthesis `()`\n",
    "    - Do all of the following: `[2, 20]`, `(2, 20)`, `[2, 20)`, `(2, 20]`\n",
    "    - What is the default in the above notation?"
   ]
  },
  {
   "cell_type": "code",
   "execution_count": null,
   "metadata": {},
   "outputs": [],
   "source": []
  },
  {
   "cell_type": "code",
   "execution_count": null,
   "metadata": {},
   "outputs": [],
   "source": []
  },
  {
   "cell_type": "code",
   "execution_count": null,
   "metadata": {},
   "outputs": [],
   "source": []
  },
  {
   "cell_type": "code",
   "execution_count": null,
   "metadata": {},
   "outputs": [],
   "source": []
  }
 ],
 "metadata": {
  "kernelspec": {
   "display_name": "Python 3",
   "language": "python",
   "name": "python3"
  },
  "language_info": {
   "codemirror_mode": {
    "name": "ipython",
    "version": 3
   },
   "file_extension": ".py",
   "mimetype": "text/x-python",
   "name": "python",
   "nbconvert_exporter": "python",
   "pygments_lexer": "ipython3",
   "version": "3.6.6"
  }
 },
 "nbformat": 4,
 "nbformat_minor": 2
}
