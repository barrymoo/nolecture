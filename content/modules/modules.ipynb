{
 "cells": [
  {
   "cell_type": "markdown",
   "metadata": {},
   "source": [
    "Modules\n",
    "---\n",
    "\n",
    "There is a funny saying,\n",
    "\n",
    "> Python is the second best language for everything\n",
    "\n",
    "This turns out to be really helpful because there is a module for everything!\n",
    "\n",
    "### How do I find modules?\n",
    "\n",
    "- You will download most packages from PyPI, or the [Python Package Index](https://pypi.org/)\n",
    "- First, you will need to know what packages to get\n",
    "    - To find them, use Google. Search examples:\n",
    "        - \"Python Data Science Libraries\"\n",
    "        - \"Python Health Sciences Libraries\"\n",
    "    - Or, Google a specific problem\n",
    "        - \"Python how do I read CSV files?\"\n",
    "- I try to prefer built-in functions to external ones (when it makes sense)\n",
    "    - For example, there is a built in CSV reader in the library `csv` but the library `pandas` has a lot more functionality for data manipulation\n",
    "- Example, importing `csv`"
   ]
  },
  {
   "cell_type": "code",
   "execution_count": null,
   "metadata": {},
   "outputs": [],
   "source": [
    "import csv"
   ]
  },
  {
   "cell_type": "markdown",
   "metadata": {},
   "source": [
    "- Remember the `help` function?"
   ]
  },
  {
   "cell_type": "code",
   "execution_count": null,
   "metadata": {},
   "outputs": [],
   "source": [
    "help(csv)"
   ]
  },
  {
   "cell_type": "markdown",
   "metadata": {},
   "source": [
    "### Digesting `help`\n",
    "\n",
    "- That was a lot of information!\n",
    "    - `pandas` would be even more\n",
    "- To access the `reader` function (towards the end of help output), we would use:"
   ]
  },
  {
   "cell_type": "code",
   "execution_count": null,
   "metadata": {},
   "outputs": [],
   "source": [
    "csv.reader"
   ]
  },
  {
   "cell_type": "markdown",
   "metadata": {},
   "source": [
    "- If you only need the `reader` function:"
   ]
  },
  {
   "cell_type": "code",
   "execution_count": null,
   "metadata": {},
   "outputs": [],
   "source": [
    "from csv import reader\n",
    "reader == csv.reader # Are they the same?"
   ]
  },
  {
   "cell_type": "markdown",
   "metadata": {},
   "source": [
    "### Tips\n",
    "\n",
    "- I tend to only import the functions I need, but feel free to import the entire library\n",
    "- It is considered good style to import one function per line\n",
    "\n",
    "```python\n",
    "# considered poor style\n",
    "from csv import reader, writer\n",
    "# considered cleaner\n",
    "from csv import reader\n",
    "from csv import writer\n",
    "```\n",
    "\n",
    "- Sometimes, modules have a recommended way of importing them\n",
    "    - Example, `pandas`:"
   ]
  },
  {
   "cell_type": "code",
   "execution_count": null,
   "metadata": {},
   "outputs": [],
   "source": [
    "import pandas as pd"
   ]
  },
  {
   "cell_type": "markdown",
   "metadata": {},
   "source": [
    "- Now, you can access members via `pd.<member>`\n",
    "    - `pd` is called an \"alias\""
   ]
  },
  {
   "cell_type": "markdown",
   "metadata": {},
   "source": [
    "### Installing a Module\n",
    "\n",
    "- I have installed a lot of modules for you, but if you are missing one they must be installed via:\n",
    "        \n",
    "```python\n",
    "import sys\n",
    "!{sys.executable} -m pip install --user numpy\n",
    "```\n",
    "    \n",
    "- If you want to use the other kernels, please ask me\n",
    "- The `--user` flag is the secret sauce, without it you will get a permission denied error"
   ]
  }
 ],
 "metadata": {
  "kernelspec": {
   "display_name": "Python 3",
   "language": "python",
   "name": "python3"
  },
  "language_info": {
   "codemirror_mode": {
    "name": "ipython",
    "version": 3
   },
   "file_extension": ".py",
   "mimetype": "text/x-python",
   "name": "python",
   "nbconvert_exporter": "python",
   "pygments_lexer": "ipython3",
   "version": "3.7.0"
  }
 },
 "nbformat": 4,
 "nbformat_minor": 2
}
