{
 "cells": [
  {
   "cell_type": "markdown",
   "metadata": {},
   "source": [
    "Boolean Operators\n",
    "---\n",
    "\n",
    "- Compare Boolean values:\n",
    "    - `<bool> and <bool>`\n",
    "    - `<bool> or <bool>`\n",
    "    - `not <bool>`\n",
    "\n",
    "#### Tasks\n",
    "\n",
    "1. Make some comparisons using the Boolean operators. What do the keywords `and, or, not` do?"
   ]
  },
  {
   "cell_type": "code",
   "execution_count": null,
   "metadata": {},
   "outputs": [],
   "source": []
  },
  {
   "cell_type": "code",
   "execution_count": null,
   "metadata": {},
   "outputs": [],
   "source": []
  },
  {
   "cell_type": "code",
   "execution_count": null,
   "metadata": {},
   "outputs": [],
   "source": []
  },
  {
   "cell_type": "markdown",
   "metadata": {},
   "source": [
    "Boolean Operators Cont.\n",
    "---\n",
    "\n",
    "- Now that you have some documentation\n",
    "\n",
    "#### Tasks\n",
    "\n",
    "1. Evaluate the following expressions (without the interpreter!):\n",
    "    - `1 == 2 or 2 == 2`\n",
    "    - `1 == 2 and 2 == 2`\n",
    "    - `not 1 == 2 and 2 == 2`\n",
    "2. Enter the expressions, were you correct? "
   ]
  },
  {
   "cell_type": "code",
   "execution_count": null,
   "metadata": {},
   "outputs": [],
   "source": []
  },
  {
   "cell_type": "code",
   "execution_count": null,
   "metadata": {},
   "outputs": [],
   "source": []
  },
  {
   "cell_type": "code",
   "execution_count": null,
   "metadata": {},
   "outputs": [],
   "source": []
  }
 ],
 "metadata": {
  "kernelspec": {
   "display_name": "Python 3",
   "language": "python",
   "name": "python3"
  },
  "language_info": {
   "codemirror_mode": {
    "name": "ipython",
    "version": 3
   },
   "file_extension": ".py",
   "mimetype": "text/x-python",
   "name": "python",
   "nbconvert_exporter": "python",
   "pygments_lexer": "ipython3",
   "version": "3.6.6"
  }
 },
 "nbformat": 4,
 "nbformat_minor": 2
}
