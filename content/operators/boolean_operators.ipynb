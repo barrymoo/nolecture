{
 "cells": [
  {
   "cell_type": "markdown",
   "metadata": {},
   "source": [
    "Boolean Operators\n",
    "---\n",
    "\n",
    "- Booleans represents truth values, in Python use `True` or `False` (note capitals!)\n",
    "- A unary boolean operator `not`\n",
    "    - Syntax: `not <boolean>`\n",
    "- Two binary boolean operators `and`, `or`\n",
    "    - Syntax: `<boolean> <operator> <boolean>`\n",
    "\n",
    "#### Tasks\n",
    "\n",
    "1. We are going to do something a little different here. I gave you the syntax for the boolean operators and I would like you to tell me what they do. Make some comparisons below and fill in the following:\n",
    "\n",
    "\n",
    "- `not` is a unary operator which ...\n",
    "- `and` is a binary operator which ...\n",
    "- `or` is a binary operator which ..."
   ]
  },
  {
   "cell_type": "code",
   "execution_count": null,
   "metadata": {},
   "outputs": [],
   "source": []
  },
  {
   "cell_type": "code",
   "execution_count": null,
   "metadata": {},
   "outputs": [],
   "source": []
  },
  {
   "cell_type": "code",
   "execution_count": null,
   "metadata": {},
   "outputs": [],
   "source": []
  },
  {
   "cell_type": "markdown",
   "metadata": {},
   "source": [
    "Boolean Operators Cont.\n",
    "---\n",
    "\n",
    "You now have some documentation for how the boolean operators work. Let's combine the boolean and comparison operators to make some comparisons!\n",
    "\n",
    "#### Tasks\n",
    "\n",
    "1. Evaluate the following expressions (without the interpreter!):\n",
    "    - `1 == 2 or 2 == 2`\n",
    "    - `1 == 2 and 2 == 2`\n",
    "    - `not 1 == 2 and 2 == 2`\n",
    "2. Enter the expressions and check your answers "
   ]
  },
  {
   "cell_type": "code",
   "execution_count": null,
   "metadata": {},
   "outputs": [],
   "source": []
  },
  {
   "cell_type": "code",
   "execution_count": null,
   "metadata": {},
   "outputs": [],
   "source": []
  },
  {
   "cell_type": "code",
   "execution_count": null,
   "metadata": {},
   "outputs": [],
   "source": []
  }
 ],
 "metadata": {
  "kernelspec": {
   "display_name": "Python 3",
   "language": "python",
   "name": "python3"
  },
  "language_info": {
   "codemirror_mode": {
    "name": "ipython",
    "version": 3
   },
   "file_extension": ".py",
   "mimetype": "text/x-python",
   "name": "python",
   "nbconvert_exporter": "python",
   "pygments_lexer": "ipython3",
   "version": "3.7.0"
  }
 },
 "nbformat": 4,
 "nbformat_minor": 2
}
