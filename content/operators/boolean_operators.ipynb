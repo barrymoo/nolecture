{
 "cells": [
  {
   "cell_type": "markdown",
   "metadata": {},
   "source": [
    "Boolean Operators\n",
    "---\n",
    "\n",
    "- Booleans represents truth values, in Python use `True` or `False` (note capitals!)\n",
    "- A unary boolean operator `not`\n",
    "    - Syntax: `not <boolean>`\n",
    "- Two binary boolean operators `and`, `or`\n",
    "    - Syntax: `<boolean> <operator> <boolean>`\n",
    "\n",
    "#### Tasks\n",
    "\n",
    "1. We are going to do something a little different here. I gave you the syntax for the boolean operators and I would like you to tell me what they do. First, an example. Fill in the following statement: `not` is a unary operator which ...\n",
    "\n",
    "For this problem, we need the syntax for `not`, i.e. `not <boolean>`. We know there are two boolean values, i.e. `True` and `False`. Therefore, running the following cells should help me understand what `not` does."
   ]
  },
  {
   "cell_type": "code",
   "execution_count": null,
   "metadata": {},
   "outputs": [],
   "source": [
    "not True"
   ]
  },
  {
   "cell_type": "code",
   "execution_count": null,
   "metadata": {},
   "outputs": [],
   "source": [
    "not False"
   ]
  },
  {
   "cell_type": "markdown",
   "metadata": {},
   "source": [
    "Neat, the `not` keyword inverts a boolean expression. Given `True` it returns `False` and vice-versa. Filling in the statement now:\n",
    "\n",
    "`not` is a unary operator which takes a boolean value as input and inverts it.\n",
    "\n",
    "Now your turn, use `True` and `False` and the following operators\n",
    "\n",
    "- `and`\n",
    "- `or`\n",
    "\n",
    "To fill-in the following statements:\n",
    "    \n",
    "- `and` is a binary operator which <does what?>\n",
    "- `or` is a binary operator which <does what?>"
   ]
  },
  {
   "cell_type": "code",
   "execution_count": null,
   "metadata": {},
   "outputs": [],
   "source": []
  },
  {
   "cell_type": "code",
   "execution_count": null,
   "metadata": {},
   "outputs": [],
   "source": []
  },
  {
   "cell_type": "code",
   "execution_count": null,
   "metadata": {},
   "outputs": [],
   "source": []
  },
  {
   "cell_type": "code",
   "execution_count": null,
   "metadata": {},
   "outputs": [],
   "source": []
  },
  {
   "cell_type": "code",
   "execution_count": null,
   "metadata": {},
   "outputs": [],
   "source": []
  },
  {
   "cell_type": "code",
   "execution_count": null,
   "metadata": {},
   "outputs": [],
   "source": []
  },
  {
   "cell_type": "markdown",
   "metadata": {},
   "source": [
    "Boolean Operators Cont.\n",
    "---\n",
    "\n",
    "You now have some documentation for how the boolean operators work. Let's combine the boolean and comparison operators to make some comparisons!\n",
    "\n",
    "#### Tasks\n",
    "\n",
    "1. Evaluate the following expressions (without the interpreter!):\n",
    "    - `1 == 2 or 2 == 2`\n",
    "    - `1 == 2 and 2 == 2`\n",
    "    - `not 1 == 2 and 2 == 2`\n",
    "2. Enter the expressions and check your answers "
   ]
  },
  {
   "cell_type": "code",
   "execution_count": null,
   "metadata": {},
   "outputs": [],
   "source": []
  },
  {
   "cell_type": "code",
   "execution_count": null,
   "metadata": {},
   "outputs": [],
   "source": []
  },
  {
   "cell_type": "code",
   "execution_count": null,
   "metadata": {},
   "outputs": [],
   "source": []
  }
 ],
 "metadata": {
  "kernelspec": {
   "display_name": "Python 3",
   "language": "python",
   "name": "python3"
  },
  "language_info": {
   "codemirror_mode": {
    "name": "ipython",
    "version": 3
   },
   "file_extension": ".py",
   "mimetype": "text/x-python",
   "name": "python",
   "nbconvert_exporter": "python",
   "pygments_lexer": "ipython3",
   "version": "3.7.3"
  }
 },
 "nbformat": 4,
 "nbformat_minor": 2
}
