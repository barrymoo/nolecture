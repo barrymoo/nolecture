{
 "cells": [
  {
   "cell_type": "markdown",
   "metadata": {},
   "source": [
    "Comparison Operators\n",
    "---\n",
    "\n",
    "- Binary comparison operators return boolean values and are used to compare objects:\n",
    "    - `==`: is equal to\n",
    "    - `!=`: is not equal to\n",
    "    - `>`, `<`: greater, less than (respectively)\n",
    "    - `>=`, `<=`: greater, less than or equal to (respectively)\n",
    "\n",
    "#### Tasks\n",
    "\n",
    "Convert the textual representation of a comparison into code, example:\n",
    "\n",
    "- \"2 is less than or equal to 1\""
   ]
  },
  {
   "cell_type": "code",
   "execution_count": null,
   "metadata": {},
   "outputs": [],
   "source": [
    "2 <= 1"
   ]
  },
  {
   "cell_type": "markdown",
   "metadata": {},
   "source": [
    "- Convert the following text:\n",
    "    - 4 is not equal 3\n",
    "    - 25 is odd (hint: what's 25 % 2, how about 20 % 2)\n",
    "    - 16 is not odd\n",
    "    - 13 is not even\n",
    "    - 20 is between 10 and 30"
   ]
  },
  {
   "cell_type": "code",
   "execution_count": null,
   "metadata": {},
   "outputs": [],
   "source": []
  },
  {
   "cell_type": "code",
   "execution_count": null,
   "metadata": {},
   "outputs": [],
   "source": []
  },
  {
   "cell_type": "code",
   "execution_count": null,
   "metadata": {},
   "outputs": [],
   "source": []
  },
  {
   "cell_type": "code",
   "execution_count": null,
   "metadata": {},
   "outputs": [],
   "source": []
  },
  {
   "cell_type": "code",
   "execution_count": null,
   "metadata": {},
   "outputs": [],
   "source": []
  }
 ],
 "metadata": {
  "kernelspec": {
   "display_name": "Python 3",
   "language": "python",
   "name": "python3"
  },
  "language_info": {
   "codemirror_mode": {
    "name": "ipython",
    "version": 3
   },
   "file_extension": ".py",
   "mimetype": "text/x-python",
   "name": "python",
   "nbconvert_exporter": "python",
   "pygments_lexer": "ipython3",
   "version": "3.7.0"
  }
 },
 "nbformat": 4,
 "nbformat_minor": 2
}
