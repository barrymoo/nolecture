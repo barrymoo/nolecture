{
 "cells": [
  {
   "cell_type": "markdown",
   "metadata": {},
   "source": [
    "Operators\n",
    "---\n",
    "\n",
    "- Operators are syntax which represent an arithmetic or relation operation\n",
    "- A \"unary\" takes one input and the operator is in the prefix position\n",
    "    - Syntax: `<operator><object>`\n",
    "    - Examples: `-1` or `+1`\n",
    "- A \"binary\" operator takes 2 inputs and the operator is in the infix position\n",
    "    - Syntax: `<object-0> <operator> <object-1>`\n",
    "    - Examples: `1 + 1` or `1 - 1`\n",
    "- The binary arithmetic operators\n",
    "    - Addition (`+`), subtraction (`-`), multiplication (`*`), division (`/`)\n",
    "    - Floor division (`//`): quotient without fractional parts\n",
    "    - Modulus (`%`): Integer remainder of quotient\n",
    "    - Exponentiation (`**`)\n",
    "- Precedence\n",
    "    - The order of operations you expect from mathematics is obeyed\n",
    "        - Use parentheses to override the precedence\n",
    "\n",
    "#### Tasks:\n",
    "\n",
    "1. Run the definition cell below\n",
    "2. Use `+`, `-` unary operators on `a`\n",
    "3. Use `+`, `-`, `*`, `/` binary operators on combinations of:\n",
    "    - `a` with `a`\n",
    "    - `b` with `b`\n",
    "    - `a` with `b`\n",
    "4. Some of the binary operators yield results which are different from the input types, why do you think this is? "
   ]
  },
  {
   "cell_type": "code",
   "execution_count": null,
   "metadata": {},
   "outputs": [],
   "source": [
    "# Definitions\n",
    "a = 2.2\n",
    "b = 4"
   ]
  },
  {
   "cell_type": "code",
   "execution_count": null,
   "metadata": {},
   "outputs": [],
   "source": []
  },
  {
   "cell_type": "code",
   "execution_count": null,
   "metadata": {},
   "outputs": [],
   "source": []
  },
  {
   "cell_type": "code",
   "execution_count": null,
   "metadata": {},
   "outputs": [],
   "source": []
  },
  {
   "cell_type": "code",
   "execution_count": null,
   "metadata": {},
   "outputs": [],
   "source": []
  },
  {
   "cell_type": "code",
   "execution_count": null,
   "metadata": {},
   "outputs": [],
   "source": []
  },
  {
   "cell_type": "markdown",
   "metadata": {},
   "source": [
    "Aside: Syntactic Sugar\n",
    "---\n",
    "\n",
    "\"Syntactic sugar\" is a term for syntax which is easier to type but is translated to more verbose syntax, consider the following cell"
   ]
  },
  {
   "cell_type": "code",
   "execution_count": null,
   "metadata": {},
   "outputs": [],
   "source": [
    "a = a + 1"
   ]
  },
  {
   "cell_type": "markdown",
   "metadata": {},
   "source": [
    "This cell can be \"sugared\" using the `+=` addition-assignment operator, e.g."
   ]
  },
  {
   "cell_type": "code",
   "execution_count": null,
   "metadata": {},
   "outputs": [],
   "source": [
    "a += 1"
   ]
  },
  {
   "cell_type": "markdown",
   "metadata": {},
   "source": [
    "#### Tasks\n",
    "\n",
    "1. Run the definition cell\n",
    "2. Use the multiplication assignment operator to return the area of a cirle if `a` was the radius i.e. $ \\pi r^2$"
   ]
  },
  {
   "cell_type": "code",
   "execution_count": null,
   "metadata": {},
   "outputs": [],
   "source": [
    "# definitions\n",
    "a = 2.0\n",
    "pi = 3.14159"
   ]
  },
  {
   "cell_type": "code",
   "execution_count": null,
   "metadata": {},
   "outputs": [],
   "source": []
  }
 ],
 "metadata": {
  "kernelspec": {
   "display_name": "Python 3",
   "language": "python",
   "name": "python3"
  },
  "language_info": {
   "codemirror_mode": {
    "name": "ipython",
    "version": 3
   },
   "file_extension": ".py",
   "mimetype": "text/x-python",
   "name": "python",
   "nbconvert_exporter": "python",
   "pygments_lexer": "ipython3",
   "version": "3.7.0"
  }
 },
 "nbformat": 4,
 "nbformat_minor": 2
}
