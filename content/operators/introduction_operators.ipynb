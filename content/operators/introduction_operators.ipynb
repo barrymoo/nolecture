{
 "cells": [
  {
   "cell_type": "markdown",
   "metadata": {},
   "source": [
    "Operators\n",
    "---\n",
    "\n",
    "- Binary arithmetic operators\n",
    "    - addition (+), subtraction (-), multiplication (\\*), division (/)\n",
    "    - floor division (//): quotient without fractional parts\n",
    "    - modulus (%): Integer remainder of quotient\n",
    "    - exponentiation (\\*\\*)\n",
    "- Precedence\n",
    "    - Just like in Mathematics order of operations which is obeyed and parentheses can be used to change the order\n",
    "\n",
    "#### Tasks:\n",
    "\n",
    "1. Define a variable `a` with some float value (i.e. with a decimal place) and `b` as some integer value\n",
    "2. Wrap the following in a print statement i.e. `print(<var1> <operator> <var2>)`, it might be helpful to separate each task into a separate cell\n",
    "    - Try all of the binary arithmetic operators between `a` and `b`\n",
    "    - Try all of the binary arithmetic operators between `a` and `a`\n",
    "    - Try all of the binary arithmetic operators between `b` and `b`"
   ]
  },
  {
   "cell_type": "code",
   "execution_count": null,
   "metadata": {},
   "outputs": [],
   "source": []
  },
  {
   "cell_type": "code",
   "execution_count": null,
   "metadata": {},
   "outputs": [],
   "source": []
  },
  {
   "cell_type": "code",
   "execution_count": null,
   "metadata": {},
   "outputs": [],
   "source": []
  },
  {
   "cell_type": "code",
   "execution_count": null,
   "metadata": {},
   "outputs": [],
   "source": []
  },
  {
   "cell_type": "code",
   "execution_count": null,
   "metadata": {},
   "outputs": [],
   "source": []
  },
  {
   "cell_type": "markdown",
   "metadata": {},
   "source": [
    "### Notes\n",
    "\n",
    "- For the operations between `float` and `int`, the value which is returned is a `float`\n",
    "- For `int`-`int` operations, one result was promoted to a `float` (which one?)\n",
    "- It's important to understand that the returned types aren't necessarily what goes into the calculations!\n",
    "- Additionally, sometimes operations aren't smart enough to promote values and you end up with a result you didn't expect"
   ]
  },
  {
   "cell_type": "markdown",
   "metadata": {},
   "source": [
    "Binary Operators with Assignment\n",
    "---\n",
    "\n",
    "- The binary operators can be combined with an `=` sign, i.e. `<variable> <operator>= <value>` is expanded to: `<variable> = <variable> <operator> <value>`\n",
    "\n",
    "#### Tasks\n",
    "\n",
    "1. Define a variable `a` equal to 2.0, use the multiplication assignment operator to return the area of a cirle if `a` was the radius i.e. $ \\pi r^2$\n",
    "    - First you need $\\pi$. Typing the below Python will bring `pi` into the notebook just like any other variable.\n",
    "```python\n",
    "from math import pi\n",
    "```"
   ]
  },
  {
   "cell_type": "code",
   "execution_count": null,
   "metadata": {},
   "outputs": [],
   "source": []
  }
 ],
 "metadata": {
  "kernelspec": {
   "display_name": "Python 3",
   "language": "python",
   "name": "python3"
  },
  "language_info": {
   "codemirror_mode": {
    "name": "ipython",
    "version": 3
   },
   "file_extension": ".py",
   "mimetype": "text/x-python",
   "name": "python",
   "nbconvert_exporter": "python",
   "pygments_lexer": "ipython3",
   "version": "3.6.6"
  }
 },
 "nbformat": 4,
 "nbformat_minor": 2
}
