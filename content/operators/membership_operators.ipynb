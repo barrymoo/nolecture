{
 "cells": [
  {
   "cell_type": "markdown",
   "metadata": {},
   "source": [
    "Membership Operators\n",
    "---\n",
    "\n",
    "- Return `True` or `False` based on membership, e.g.\n",
    "\n",
    "``` python\n",
    "1 in [1, 2, 3] # evaluates to True\n",
    "0 in [4, 5, 6] # evaluates to False\n",
    "\n",
    "'key' in {'key': 'value'} # True\n",
    "'value' in {'key': 'value'} # False\n",
    "\n",
    "# by values:\n",
    "'value' in {'key': 'value'}.values() # True\n",
    "```"
   ]
  }
 ],
 "metadata": {
  "kernelspec": {
   "display_name": "Python 3",
   "language": "python",
   "name": "python3"
  },
  "language_info": {
   "codemirror_mode": {
    "name": "ipython",
    "version": 3
   },
   "file_extension": ".py",
   "mimetype": "text/x-python",
   "name": "python",
   "nbconvert_exporter": "python",
   "pygments_lexer": "ipython3",
   "version": "3.6.6"
  }
 },
 "nbformat": 4,
 "nbformat_minor": 2
}
