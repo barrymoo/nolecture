{
 "cells": [
  {
   "cell_type": "markdown",
   "metadata": {},
   "source": [
    "Apply + Lambda\n",
    "---\n",
    "\n",
    "I want to briefly show you a decent idiom for doing more complicated work on a `Series`.\n",
    "\n",
    "This is a contrived example, but it shows the utility of `apply` + `lambda`.\n",
    "\n",
    "What if we wanted wanted to figure out if all letters A-Z are in the names of the states? First, we could create a `set` of characters in each state's name:"
   ]
  },
  {
   "cell_type": "code",
   "execution_count": null,
   "metadata": {},
   "outputs": [],
   "source": [
    "# don't use the names of states an the index!\n",
    "states = pd.read_csv('states.csv')\n",
    "\n",
    "def set_of_chars(s):\n",
    "    return set(list(s.lower()))\n",
    "\n",
    "series_of_sets = states.State.apply(lambda s: set_of_chars(s))\n",
    "series_of_sets"
   ]
  },
  {
   "cell_type": "markdown",
   "metadata": {},
   "source": [
    "I need to combine all of these sets into a single one!\n",
    "\n",
    "- First, an example of combining sets"
   ]
  },
  {
   "cell_type": "code",
   "execution_count": null,
   "metadata": {},
   "outputs": [],
   "source": [
    "a = {1, 2, 3}\n",
    "b = {2, 4}\n",
    "a.union(b)"
   ]
  },
  {
   "cell_type": "markdown",
   "metadata": {},
   "source": [
    "Now, we are going to \"reduce\" the `list` of `set`s by taking the union of each entry. If done step by step:\n",
    "\n",
    "```python\n",
    "_tmp = <zeroth_set>.union(<first_set>)\n",
    "_tmp = _tmp.union(<second_set>)\n",
    "_tmp = _tmp.union(<third_set>)\n",
    "...\n",
    "_tmp = _tmp.union(<final_set>)\n",
    "```\n",
    "\n",
    "Remember, we are going to use `reduce` from `functools` and an anonymous function to take the union between the sets to generate a single set."
   ]
  },
  {
   "cell_type": "code",
   "execution_count": null,
   "metadata": {},
   "outputs": [],
   "source": [
    "from functools import reduce\n",
    "chars_used_in_states_name = reduce(lambda x, y: x.union(y), series_of_sets)\n",
    "chars_used_in_states_name"
   ]
  },
  {
   "cell_type": "markdown",
   "metadata": {},
   "source": [
    "Lastly, we need to remove any non-alphanumeric characters\n",
    "\n",
    "- `ascii_lowercase` from `string` is simply a string of all of the characters\n",
    "    - i.e.\n",
    "        - `\" \" in ascii_lowercase` would return `False`\n",
    "        - `\"a\" in ascii_lowercase` would return `True`\n",
    "- We can use a set comprehension"
   ]
  },
  {
   "cell_type": "code",
   "execution_count": null,
   "metadata": {},
   "outputs": [],
   "source": [
    "from string import ascii_lowercase\n",
    "chars_used_in_states_name = {x for x in chars_used_in_states_name if x in ascii_lowercase}\n",
    "chars_used_in_states_name"
   ]
  },
  {
   "cell_type": "markdown",
   "metadata": {},
   "source": [
    "- Now we can answer our question!\n",
    "\n",
    "Are all of the characters used in the states names?"
   ]
  },
  {
   "cell_type": "code",
   "execution_count": null,
   "metadata": {},
   "outputs": [],
   "source": [
    "alphabet_set = set(list(ascii_lowercase))\n",
    "alphabet_set.difference(chars_used_in_states_name)"
   ]
  },
  {
   "cell_type": "markdown",
   "metadata": {},
   "source": [
    "The concepts of reductions and anonymous functions can be very useful when doing data analysis! Many times you can use comprehensions to do something similar, but I personally enjoy the `reduce` style. No tasks for this section. I would suggest prodding the above code to make sure you understand it!"
   ]
  }
 ],
 "metadata": {
  "kernelspec": {
   "display_name": "Python 3",
   "language": "python",
   "name": "python3"
  },
  "language_info": {
   "codemirror_mode": {
    "name": "ipython",
    "version": 3
   },
   "file_extension": ".py",
   "mimetype": "text/x-python",
   "name": "python",
   "nbconvert_exporter": "python",
   "pygments_lexer": "ipython3",
   "version": "3.7.1"
  }
 },
 "nbformat": 4,
 "nbformat_minor": 2
}
