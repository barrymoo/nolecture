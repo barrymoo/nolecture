{
 "cells": [
  {
   "cell_type": "markdown",
   "metadata": {},
   "source": [
    "### Access and Types\n",
    "\n",
    "You can access `Series` from `DataFrame`s using two syntax:\n",
    "\n",
    "- Like a dictionary: `<df>['<key>']`\n",
    "- Like a data member, `<df>.<key>`\n",
    "\n",
    "Important note: do not assign keys to values using the data member style! That style is for access only! For this reason, I tend to prefer the dictionary style.\n",
    "\n",
    "If you want to know the types of your `DataFrame`'s `Series`s using `<df>.dtypes`\n",
    "\n",
    "### Tasks\n",
    "\n",
    "- Run the definitions cell below\n",
    "- Access `b` of `df` using both styles\n",
    "- Why are two columns printed?\n",
    "- What is the type of `df['b']`?\n",
    "- What are the `dtypes` of `df`?"
   ]
  },
  {
   "cell_type": "code",
   "execution_count": null,
   "metadata": {},
   "outputs": [],
   "source": [
    "# definitions\n",
    "df = pd.DataFrame({'a': [0, 1, 2], 'b': [0.0, 1.0, 2.0], 'c': [\"pandas\", \"is\", \"great\"]})\n",
    "df"
   ]
  },
  {
   "cell_type": "code",
   "execution_count": null,
   "metadata": {},
   "outputs": [],
   "source": []
  },
  {
   "cell_type": "code",
   "execution_count": null,
   "metadata": {},
   "outputs": [],
   "source": []
  },
  {
   "cell_type": "code",
   "execution_count": null,
   "metadata": {},
   "outputs": [],
   "source": []
  },
  {
   "cell_type": "code",
   "execution_count": null,
   "metadata": {},
   "outputs": [],
   "source": []
  }
 ],
 "metadata": {
  "kernelspec": {
   "display_name": "Python 3",
   "language": "python",
   "name": "python3"
  },
  "language_info": {
   "codemirror_mode": {
    "name": "ipython",
    "version": 3
   },
   "file_extension": ".py",
   "mimetype": "text/x-python",
   "name": "python",
   "nbconvert_exporter": "python",
   "pygments_lexer": "ipython3",
   "version": "3.7.1"
  }
 },
 "nbformat": 4,
 "nbformat_minor": 2
}
