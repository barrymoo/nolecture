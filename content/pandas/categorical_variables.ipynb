{
 "cells": [
  {
   "cell_type": "markdown",
   "metadata": {},
   "source": [
    "Working with Categorical Variables\n",
    "---\n",
    "\n",
    "The dataset we will work with is information about Science Technology Enginnering and Math programs at different postsecondary institutions in Pennsylvania.\n",
    "\n",
    "We can first open the dataset and view all of the columns:"
   ]
  },
  {
   "cell_type": "code",
   "execution_count": null,
   "metadata": {},
   "outputs": [],
   "source": [
    "df = pd.read_csv(\"stem.csv\")\n",
    "df.head()"
   ]
  },
  {
   "cell_type": "markdown",
   "metadata": {},
   "source": [
    "Let's explore the dataset a bit. The `Type` column is a categorical variable. Let's look at what categories are available:"
   ]
  },
  {
   "cell_type": "code",
   "execution_count": null,
   "metadata": {},
   "outputs": [],
   "source": [
    "df[\"Type\"].unique()"
   ]
  },
  {
   "cell_type": "markdown",
   "metadata": {},
   "source": [
    "Everything that isn't a `Community College` is considered a University. We can use `np.where` to fill in a new column of the dataframe, using the following syntax:\n",
    "\n",
    "```python\n",
    "np.where(<condition>, <true_value>, <false_value>)\n",
    "```\n",
    "\n",
    "For example,"
   ]
  },
  {
   "cell_type": "code",
   "execution_count": null,
   "metadata": {},
   "outputs": [],
   "source": [
    "df[\"Corrected Type\"] = np.where(df[\"Type\"] == \"Community College\", \"College\", \"University\")\n",
    "df.head()"
   ]
  },
  {
   "cell_type": "markdown",
   "metadata": {},
   "source": [
    "### Tasks\n",
    "\n",
    "1. Try using `np.where` to create a new column `IsCollege` where the value is `True` for a college and `False` for a university.\n",
    "2. Try using the apply + lambda style to create a new column `IsUniversity` where the value is `True` for a university and `False` for a college.\n",
    "    - Hint: An inline `if-then-else` looks a bit different than we have seen previously, syntax:\n",
    "    \n",
    "    ```python\n",
    "    <true_value> if <condition> else <false_value>\n",
    "    ```"
   ]
  },
  {
   "cell_type": "code",
   "execution_count": null,
   "metadata": {},
   "outputs": [],
   "source": []
  },
  {
   "cell_type": "code",
   "execution_count": null,
   "metadata": {},
   "outputs": [],
   "source": []
  },
  {
   "cell_type": "markdown",
   "metadata": {},
   "source": [
    "These columns are really useful because they act as boolean masks! Try the following cells:"
   ]
  },
  {
   "cell_type": "code",
   "execution_count": null,
   "metadata": {},
   "outputs": [],
   "source": [
    "df[df[\"IsCollege\"]].head()"
   ]
  },
  {
   "cell_type": "code",
   "execution_count": null,
   "metadata": {},
   "outputs": [],
   "source": [
    "df[df[\"IsUniversity\"]].head()"
   ]
  },
  {
   "cell_type": "markdown",
   "metadata": {},
   "source": [
    "Notes\n",
    "---\n",
    "\n",
    "`np.where` and `if-then-else` will only work with two categories! If there are more than two categories we need to create more complicated boolean masks. Let's look an example using the Trees dataset from before:"
   ]
  },
  {
   "cell_type": "code",
   "execution_count": null,
   "metadata": {},
   "outputs": [],
   "source": [
    "df = pd.read_csv(\"trees.csv\")\n",
    "df.head()"
   ]
  },
  {
   "cell_type": "markdown",
   "metadata": {},
   "source": [
    "Let's poke around the height data:"
   ]
  },
  {
   "cell_type": "code",
   "execution_count": null,
   "metadata": {},
   "outputs": [],
   "source": [
    "df[\"height\"].min(), df[\"height\"].max()"
   ]
  },
  {
   "cell_type": "code",
   "execution_count": null,
   "metadata": {},
   "outputs": [],
   "source": [
    "df.groupby(\"height\").count()"
   ]
  },
  {
   "cell_type": "markdown",
   "metadata": {},
   "source": [
    "Height is a continuous variable ranging from 0 to 65. Let's convert this continuous variable into a categorical one with four ranges:\n",
    "\n",
    "- less than or equal to 15\n",
    "- greater than 15 and less than or equal to 30\n",
    "- greater than 30 and less than or equal to 45\n",
    "- greater than 45\n",
    "\n",
    "To do this we can create boolean masks and use them to fill in our categories, e.g."
   ]
  },
  {
   "cell_type": "code",
   "execution_count": null,
   "metadata": {},
   "outputs": [],
   "source": [
    "mask0 = df[\"height\"] <= 15\n",
    "mask1 = (df[\"height\"] > 15) & (df[\"height\"] <= 30)\n",
    "mask2 = (df[\"height\"] > 30) & (df[\"height\"] <= 45)\n",
    "mask3 = (df[\"height\"] > 45) & (df[\"height\"] <= 65)"
   ]
  },
  {
   "cell_type": "markdown",
   "metadata": {},
   "source": [
    "### Notes\n",
    "\n",
    "- Take a look at some of the masks just to make sure you see what they look like\n",
    "- The `(<condition>) & (<condition>)` syntax behaves like a broadcasted version of `<bool> and <bool>` (e.g. `True and True`), try the following code if you are still unsure. Make sure to think about what the answer should be before running it!\n",
    "    ```python\n",
    "    a = np.array([True, False, True])\n",
    "    b = np.array([True, False, False])\n",
    "    a & b\n",
    "    ```"
   ]
  },
  {
   "cell_type": "code",
   "execution_count": null,
   "metadata": {},
   "outputs": [],
   "source": [
    "df.loc[mask0, \"height_range\"] = \"0-15\"\n",
    "df.loc[mask1, \"height_range\"] = \"15-30\"\n",
    "df.loc[mask2, \"height_range\"] = \"30-45\"\n",
    "df.loc[mask3, \"height_range\"] = \"45-65\""
   ]
  },
  {
   "cell_type": "code",
   "execution_count": null,
   "metadata": {},
   "outputs": [],
   "source": [
    "df[[\"height\", \"height_range\"]].head()"
   ]
  },
  {
   "cell_type": "markdown",
   "metadata": {},
   "source": [
    "### Tasks\n",
    "\n",
    "1. Try creating categorical ranges for width. Use three ranges."
   ]
  },
  {
   "cell_type": "code",
   "execution_count": null,
   "metadata": {},
   "outputs": [],
   "source": []
  },
  {
   "cell_type": "code",
   "execution_count": null,
   "metadata": {},
   "outputs": [],
   "source": []
  },
  {
   "cell_type": "code",
   "execution_count": null,
   "metadata": {},
   "outputs": [],
   "source": []
  }
 ],
 "metadata": {
  "kernelspec": {
   "display_name": "Python 3",
   "language": "python",
   "name": "python3"
  },
  "language_info": {
   "codemirror_mode": {
    "name": "ipython",
    "version": 3
   },
   "file_extension": ".py",
   "mimetype": "text/x-python",
   "name": "python",
   "nbconvert_exporter": "python",
   "pygments_lexer": "ipython3",
   "version": "3.7.5"
  }
 },
 "nbformat": 4,
 "nbformat_minor": 4
}
