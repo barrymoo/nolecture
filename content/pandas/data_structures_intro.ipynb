{
 "cells": [
  {
   "cell_type": "markdown",
   "metadata": {},
   "source": [
    "Data Structures\n",
    "---\n",
    "\n",
    "Similar to the Python data structures (e.g. `list, dictionary, set`), Pandas provides three fundamental data structures:\n",
    "\n",
    "1. `Series`: For one-dimensional data, similar to a Python list\n",
    "2. `DataFrame`: For two-dimensional data, similar to a Python list of lists\n",
    "3. `Index`: Similar to a `Series`, but for naming, selecting, and transforming data within a `Series` or `DataFrame`\n",
    "\n",
    "### Series\n",
    "\n",
    "You can create a Pandas `Series` in a variety of ways, e.g.:\n",
    "\n",
    "- From an assigned Python list:"
   ]
  },
  {
   "cell_type": "code",
   "execution_count": null,
   "metadata": {},
   "outputs": [],
   "source": [
    "a = ['a', 'b', 'c']\n",
    "series = pd.Series(a)\n",
    "series"
   ]
  },
  {
   "cell_type": "markdown",
   "metadata": {},
   "source": [
    "- From an unnamed Python list:"
   ]
  },
  {
   "cell_type": "code",
   "execution_count": null,
   "metadata": {},
   "outputs": [],
   "source": [
    "series = pd.Series([4, 5, 6])\n",
    "series"
   ]
  },
  {
   "cell_type": "markdown",
   "metadata": {},
   "source": [
    "- Using a specific index (similar to a `dict` where `index` are the keys):"
   ]
  },
  {
   "cell_type": "code",
   "execution_count": null,
   "metadata": {},
   "outputs": [],
   "source": [
    "series = pd.Series([4, 5, 6], index=[\"a\", \"b\", \"c\"])\n",
    "series"
   ]
  },
  {
   "cell_type": "markdown",
   "metadata": {},
   "source": [
    "- Directly from a dictionary (exactly the same as above):"
   ]
  },
  {
   "cell_type": "code",
   "execution_count": null,
   "metadata": {},
   "outputs": [],
   "source": [
    "series = pd.Series({\"a\": 4, \"b\": 5, \"c\": 6})\n",
    "series"
   ]
  },
  {
   "cell_type": "markdown",
   "metadata": {},
   "source": [
    "### DataFrame\n",
    "\n",
    "This is the data structure that makes Pandas shine. A `DataFrame` is essentially a dictionary of `Series` objects. In a `DataFrame`, the `keys` map to `Series` objects which share a common `index`. We should start with an example:"
   ]
  },
  {
   "cell_type": "code",
   "execution_count": null,
   "metadata": {},
   "outputs": [],
   "source": [
    "rock_bands = [\"Pink Floyd\", \"Rush\", \"Yes\"]\n",
    "year_formed = [1965, 1968, 1968]\n",
    "location_formed = [\"London, England\", \"Ontario, Canada\", \"London, England\"]\n",
    "df = pd.DataFrame({\"year_formed\": year_formed, \"location_formed\": location_formed}, index=rock_bands)\n",
    "df"
   ]
  },
  {
   "cell_type": "markdown",
   "metadata": {},
   "source": [
    "### Breaking Down the Result\n",
    "\n",
    "- The indicies are `\"Pink Floyd\"`, `\"Rush\"`, and `\"Yes\"`\n",
    "- The keys to the DataFrame are `\"year_formed\"` and `\"location_formed\"`\n",
    "- The lists are converted to `Series` objects which share the indices\n",
    "\n",
    "This might not seem very powerful, except that `DataFrame`s can be constructed from files! In a previous task, you were asked to read a file `states.csv` then parse it manually and do some statistics. In the following cell, I will read the file and generate statistics in two lines!"
   ]
  },
  {
   "cell_type": "code",
   "execution_count": null,
   "metadata": {},
   "outputs": [],
   "source": [
    "df = pd.read_csv(\"states.csv\")\n",
    "df.describe()"
   ]
  },
  {
   "cell_type": "markdown",
   "metadata": {},
   "source": [
    "### Tasks\n",
    "\n",
    "1. Use `pd.read_csv` to read in the csv file: `example.bsv`\n",
    "    - It does not contain a header (add `header=None` to the arguments)\n",
    "    - When working with a single dataframe it is assigned to the name `df`, by convention\n",
    "    - The file is bar separated (add `sep='|'` to the arguments)\n",
    "    - Lastly set the column names (add `names=[\"First\", \"Second\"]`)"
   ]
  },
  {
   "cell_type": "code",
   "execution_count": null,
   "metadata": {},
   "outputs": [],
   "source": []
  }
 ],
 "metadata": {
  "kernelspec": {
   "display_name": "Python 3",
   "language": "python",
   "name": "python3"
  },
  "language_info": {
   "codemirror_mode": {
    "name": "ipython",
    "version": 3
   },
   "file_extension": ".py",
   "mimetype": "text/x-python",
   "name": "python",
   "nbconvert_exporter": "python",
   "pygments_lexer": "ipython3",
   "version": "3.7.3"
  }
 },
 "nbformat": 4,
 "nbformat_minor": 2
}
