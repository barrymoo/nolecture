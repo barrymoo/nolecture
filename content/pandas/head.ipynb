{
 "cells": [
  {
   "cell_type": "markdown",
   "metadata": {},
   "source": [
    "Viewing DataFrames\n",
    "---\n",
    "\n",
    "Jupyter has built in support for viewing `DataFrame` objects in a nice format. Example:"
   ]
  },
  {
   "cell_type": "code",
   "execution_count": null,
   "metadata": {},
   "outputs": [],
   "source": [
    "import pandas as pd\n",
    "df = pd.DataFrame([0, 1, 2], index=[5, 6, 7], columns=[\"Example\"])\n",
    "df"
   ]
  },
  {
   "cell_type": "markdown",
   "metadata": {},
   "source": [
    "The result should have been a nice looking table. Reminders:\n",
    "\n",
    "- The above `DataFrame` contains a single `Series` with the key `Example`\n",
    "- The indices are on the left (in bold)\n",
    "- The values are in columns underneath the key\n",
    "\n",
    "If you only want to view a subset of the DataFrame, you can use the syntax `<df>.head()`. By default it will print only 5 rows from the top of your DataFrame. This is very useful when trying to view the _shape_ of your data. You can print fewer rows by adding `n=<number>` to the arguments of `head`.\n",
    "\n",
    "### Tasks\n",
    "\n",
    "- Run the definitions cell below\n",
    "- Print the DataFrame in the following ways:\n",
    "    - Using the built in Jupyter view\n",
    "    - The head\n",
    "    - The first row"
   ]
  },
  {
   "cell_type": "code",
   "execution_count": null,
   "metadata": {},
   "outputs": [],
   "source": [
    "# definitions\n",
    "l = list(range(10))\n",
    "df = pd.DataFrame({\"a\": l, \"b\": l, \"c\": l})"
   ]
  },
  {
   "cell_type": "code",
   "execution_count": null,
   "metadata": {},
   "outputs": [],
   "source": []
  },
  {
   "cell_type": "code",
   "execution_count": null,
   "metadata": {},
   "outputs": [],
   "source": []
  },
  {
   "cell_type": "code",
   "execution_count": null,
   "metadata": {},
   "outputs": [],
   "source": []
  }
 ],
 "metadata": {
  "kernelspec": {
   "display_name": "Python 3",
   "language": "python",
   "name": "python3"
  },
  "language_info": {
   "codemirror_mode": {
    "name": "ipython",
    "version": 3
   },
   "file_extension": ".py",
   "mimetype": "text/x-python",
   "name": "python",
   "nbconvert_exporter": "python",
   "pygments_lexer": "ipython3",
   "version": "3.7.3"
  }
 },
 "nbformat": 4,
 "nbformat_minor": 2
}
