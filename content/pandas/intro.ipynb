{
 "cells": [
  {
   "cell_type": "markdown",
   "metadata": {},
   "source": [
    "What is Pandas?\n",
    "---\n",
    "\n",
    "From https://pandas.pydata.org/pandas-docs/stable:\n",
    "\n",
    "> pandas is a Python package providing fast, flexible, and expressive data structures designed to make working with “relational” or “labeled” data both easy and intuitive. It aims to be the fundamental high-level building block for doing practical, real world data analysis in Python. Additionally, it has the broader goal of becoming the most powerful and flexible open source data analysis / manipulation tool available in any language. It is already well on its way toward this goal.\n",
    ">\n",
    "> pandas is well suited for many different kinds of data:\n",
    ">\n",
    "> - Tabular data with heterogeneously-typed columns, as in an SQL table or Excel spreadsheet\n",
    "> - Ordered and unordered (not necessarily fixed-frequency) time series data.\n",
    "> - Arbitrary matrix data (homogeneously typed or heterogeneous) with row and column labels\n",
    "> - Any other form of observational / statistical data sets. The data actually need not be labeled at all to be placed into a pandas data structure\n",
    "\n",
    "Personally, I use Pandas to work with tabular data. Why choose Pandas over a spreadsheet program (e.g. Excel)?\n",
    "\n",
    "- Pandas is open source and free\n",
    "- One can store __reproducible__ steps to get from an input to an output\n",
    "    - Excel will only store the final state, not the steps to get there!\n",
    "- It is less memory intensive and you can work with larger datasets\n",
    "\n",
    "### Pandas is built on NumPy\n",
    "\n",
    "NumPy provides multidimensional list-like data structures which are typed and much faster than Python lists. Pandas was built on top of NumPy and in an extremely similar fashion. The data structures provided in both libraries operate almost interchangably and we will simply discuss Pandas. Keep in mind almost all you learn today is similar, or exactly the same, in NumPy."
   ]
  },
  {
   "cell_type": "markdown",
   "metadata": {},
   "source": [
    "Importing Pandas\n",
    "---\n",
    "\n",
    "First, you need to `import pandas`. By convention, it is imported using the _alias_ `pd`. To import using an alias use the following syntax:\n",
    "\n",
    "```python\n",
    "import <library> as <alias>\n",
    "```\n",
    "\n",
    "- Many libraries follow an alias convention, check their documentation\n",
    "\n",
    "#### Tasks:\n",
    "\n",
    "1. Can you import `pandas` using the conventional alias?"
   ]
  },
  {
   "cell_type": "code",
   "execution_count": null,
   "metadata": {},
   "outputs": [],
   "source": []
  }
 ],
 "metadata": {
  "kernelspec": {
   "display_name": "Python 3",
   "language": "python",
   "name": "python3"
  },
  "language_info": {
   "codemirror_mode": {
    "name": "ipython",
    "version": 3
   },
   "file_extension": ".py",
   "mimetype": "text/x-python",
   "name": "python",
   "nbconvert_exporter": "python",
   "pygments_lexer": "ipython3",
   "version": "3.7.1"
  }
 },
 "nbformat": 4,
 "nbformat_minor": 2
}
