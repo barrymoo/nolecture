{
 "cells": [
  {
   "cell_type": "markdown",
   "metadata": {},
   "source": [
    "What is Pandas?\n",
    "---\n",
    "\n",
    "From https://pandas.pydata.org/pandas-docs/stable:\n",
    "\n",
    "> pandas is a Python package providing fast, flexible, and expressive data structures designed to make working with “relational” or “labeled” data both easy and intuitive. It aims to be the fundamental high-level building block for doing practical, real world data analysis in Python. Additionally, it has the broader goal of becoming the most powerful and flexible open source data analysis / manipulation tool available in any language. It is already well on its way toward this goal.\n",
    ">\n",
    "> pandas is well suited for many different kinds of data:\n",
    ">\n",
    "> - Tabular data with heterogeneously-typed columns, as in an SQL table or Excel spreadsheet\n",
    "> - Ordered and unordered (not necessarily fixed-frequency) time series data.\n",
    "> - Arbitrary matrix data (homogeneously typed or heterogeneous) with row and column labels\n",
    "> - Any other form of observational / statistical data sets. The data actually need not be labeled at all to be placed into a pandas data structure\n",
    "\n",
    "Why would you want to choose Pandas over a spreadsheet program (e.g. Excel)?\n",
    "\n",
    "- Pandas is open-source and free 👍\n",
    "- One can store __reproducible__ steps to get from an input to an output\n",
    "    - Excel will only store the final state, not the steps to get there!\n",
    "- It is less memory intensive and you can work with larger datasets\n",
    "\n",
    "### Pandas is built with NumPy\n",
    "\n",
    "NumPy provides multi-dimensional list-like data structures which are __typed__ and much faster than Python lists. The interface to the pandas data structures, to be discussed in this workshop, is very similar to the one provided by NumPy. In many cases the methods provided have the same, or similar, names. Therefore, I will skip a detailed discussion of NumPy and simply point you to the [documentation](https://docs.scipy.org/doc/numpy/reference/) for later use."
   ]
  },
  {
   "cell_type": "markdown",
   "metadata": {},
   "source": [
    "Importing Pandas\n",
    "---\n",
    "\n",
    "First, you need to `import pandas`. By convention, it is imported using the _alias_ `pd`. To import using an alias use the following syntax:\n",
    "\n",
    "```python\n",
    "import <library> as <alias>\n",
    "```\n",
    "\n",
    "- Many libraries follow an alias convention, check their documentation\n",
    "\n",
    "#### Tasks:\n",
    "\n",
    "1. Try to import `pandas` using the alias convention?"
   ]
  },
  {
   "cell_type": "code",
   "execution_count": null,
   "metadata": {},
   "outputs": [],
   "source": []
  }
 ],
 "metadata": {
  "kernelspec": {
   "display_name": "Python 3",
   "language": "python",
   "name": "python3"
  },
  "language_info": {
   "codemirror_mode": {
    "name": "ipython",
    "version": 3
   },
   "file_extension": ".py",
   "mimetype": "text/x-python",
   "name": "python",
   "nbconvert_exporter": "python",
   "pygments_lexer": "ipython3",
   "version": "3.7.3"
  }
 },
 "nbformat": 4,
 "nbformat_minor": 2
}
