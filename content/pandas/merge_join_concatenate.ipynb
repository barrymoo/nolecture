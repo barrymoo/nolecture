{
 "cells": [
  {
   "cell_type": "markdown",
   "metadata": {},
   "source": [
    "Combining DataFrames\n",
    "---\n",
    "\n",
    "### Merge\n",
    "\n",
    "A `merge` operation takes two dataframes and tries to combine them side by side. We should start with a basic example:"
   ]
  },
  {
   "cell_type": "code",
   "execution_count": null,
   "metadata": {},
   "outputs": [],
   "source": [
    "left = pd.DataFrame({\"id\": [1, 2, 3], \"names\": [\"Elias\", \"Jake\", \"Bo\"]})\n",
    "left"
   ]
  },
  {
   "cell_type": "code",
   "execution_count": null,
   "metadata": {},
   "outputs": [],
   "source": [
    "right = pd.DataFrame({\"id\": [1, 2, 3], \"names\": [\"Brock\", \"Quinn\", \"Nikolay\"]})\n",
    "right"
   ]
  },
  {
   "cell_type": "code",
   "execution_count": null,
   "metadata": {},
   "outputs": [],
   "source": [
    "pd.merge(left, right, on=\"id\")"
   ]
  },
  {
   "cell_type": "markdown",
   "metadata": {},
   "source": [
    "The keyword `on` takes a column from both dataframes and creates a new `DataFrame` sharing that column. By default it will only merge columns where values are shared between the `DataFrame`s, i.e. an _inner join_. Example:"
   ]
  },
  {
   "cell_type": "code",
   "execution_count": null,
   "metadata": {},
   "outputs": [],
   "source": [
    "left = pd.DataFrame({\"id\": [1, 3], \"names\": [\"Elias\", \"Bo\"]})\n",
    "right = pd.DataFrame({\"id\": [1, 2], \"names\": [\"Brock\", \"Quinn\"]})\n",
    "pd.merge(left, right, on=\"id\")"
   ]
  },
  {
   "cell_type": "markdown",
   "metadata": {},
   "source": [
    "There are a few different choices for _how_ you can join two `DataFrame`s\n",
    "\n",
    "- Using the keys from the `left` `DataFrame`:"
   ]
  },
  {
   "cell_type": "code",
   "execution_count": null,
   "metadata": {},
   "outputs": [],
   "source": [
    "pd.merge(left, right, on=\"id\", how=\"left\")"
   ]
  },
  {
   "cell_type": "markdown",
   "metadata": {},
   "source": [
    "- Using the keys from the `right` `DataFrame`:"
   ]
  },
  {
   "cell_type": "code",
   "execution_count": null,
   "metadata": {},
   "outputs": [],
   "source": [
    "pd.merge(left, right, on=\"id\", how=\"right\")"
   ]
  },
  {
   "cell_type": "markdown",
   "metadata": {},
   "source": [
    "- Use all of the keys, an `outer` join:"
   ]
  },
  {
   "cell_type": "code",
   "execution_count": null,
   "metadata": {},
   "outputs": [],
   "source": [
    "pd.merge(left, right, on=\"id\", how=\"outer\")"
   ]
  },
  {
   "cell_type": "markdown",
   "metadata": {},
   "source": [
    "### Concatenate\n",
    "\n",
    "`concat` is used to stack `DataFrame`s on top of one-another. It takes a list of `DataFrame`s. Let's look at a simple example:"
   ]
  },
  {
   "cell_type": "code",
   "execution_count": null,
   "metadata": {},
   "outputs": [],
   "source": [
    "top    = pd.DataFrame({\"letters\": [\"a\", \"b\", \"c\"], \"numbers\": [1, 2, 3]})\n",
    "bottom = pd.DataFrame({\"letters\": [\"g\", \"h\", \"i\"], \"numbers\": [7, 8, 9]})\n",
    "pd.concat([top, bottom])"
   ]
  },
  {
   "cell_type": "markdown",
   "metadata": {},
   "source": [
    "### Tasks\n",
    "\n",
    "1. Run the definitions cell below\n",
    "2. Try to merge `top` and `middle` using an `outer` join on the `\"numbers\"` column\n",
    "3. Guess what will happen if you do an `inner` join? Test your hypothesis\n",
    "4. Try to concatenate `top`, `middle`, and `bottom`"
   ]
  },
  {
   "cell_type": "code",
   "execution_count": null,
   "metadata": {},
   "outputs": [],
   "source": [
    "# definitions\n",
    "top    = pd.DataFrame({\"letters\": [\"a\", \"b\", \"c\"], \"numbers\": [1, 2, 3]})\n",
    "middle = pd.DataFrame({\"letters\": [\"d\", \"e\", \"f\"], \"numbers\": [4, 5, 6]})\n",
    "bottom = pd.DataFrame({\"letters\": [\"g\", \"h\", \"i\"], \"numbers\": [7, 8, 9]})"
   ]
  },
  {
   "cell_type": "code",
   "execution_count": null,
   "metadata": {},
   "outputs": [],
   "source": []
  },
  {
   "cell_type": "code",
   "execution_count": null,
   "metadata": {},
   "outputs": [],
   "source": []
  },
  {
   "cell_type": "code",
   "execution_count": null,
   "metadata": {},
   "outputs": [],
   "source": []
  }
 ],
 "metadata": {
  "kernelspec": {
   "display_name": "Python 3",
   "language": "python",
   "name": "python3"
  },
  "language_info": {
   "codemirror_mode": {
    "name": "ipython",
    "version": 3
   },
   "file_extension": ".py",
   "mimetype": "text/x-python",
   "name": "python",
   "nbconvert_exporter": "python",
   "pygments_lexer": "ipython3",
   "version": "3.7.3"
  }
 },
 "nbformat": 4,
 "nbformat_minor": 2
}
