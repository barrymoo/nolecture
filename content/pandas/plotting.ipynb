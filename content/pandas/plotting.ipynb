{
 "cells": [
  {
   "cell_type": "markdown",
   "metadata": {},
   "source": [
    "Viewing Data\n",
    "---\n",
    "\n",
    "Pandas plugs into `matplotlib` very nicely. I am going to iteratively build a plot which is easy to read. First, run the following cell."
   ]
  },
  {
   "cell_type": "code",
   "execution_count": null,
   "metadata": {},
   "outputs": [],
   "source": [
    "%matplotlib inline\n",
    "import matplotlib.pyplot as plt"
   ]
  },
  {
   "cell_type": "code",
   "execution_count": null,
   "metadata": {},
   "outputs": [],
   "source": [
    "states = pd.read_csv(\"states.csv\", index_col=0)\n",
    "states.plot()"
   ]
  },
  {
   "cell_type": "markdown",
   "metadata": {},
   "source": [
    "This is something, but not very helpful. What would we like:\n",
    "\n",
    "- X axis should be labeled with the state"
   ]
  },
  {
   "cell_type": "code",
   "execution_count": null,
   "metadata": {},
   "outputs": [],
   "source": [
    "ax = states.plot(subplots=True, xticks=range(states.shape[0]))\n",
    "suppressing_output = ax[0].set_xticklabels(states.index)"
   ]
  },
  {
   "cell_type": "markdown",
   "metadata": {},
   "source": [
    "Notes\n",
    "---\n",
    "\n",
    "1. `subplots=True`: separates the 2 plots from one another\n",
    "2. `xticks=range(states.shape[0])`: sets all of the ticks on the x-axis\n",
    "3. `ax = ...`: is a list containing both plots\n",
    "4. `ax[0].set_xticklables` changes the numeric index to the State name, should only be necessary for the 0th plot\n",
    "5. `suppressing_output = ...`, I use this to supress the output from `set_xticklabels`\n",
    "\n",
    "\n",
    "Neat, but I can't read the labels..."
   ]
  },
  {
   "cell_type": "code",
   "execution_count": null,
   "metadata": {},
   "outputs": [],
   "source": [
    "ax = states.plot(subplots=True, xticks=range(states.shape[0]), figsize=(20, 10))\n",
    "suppressing_output = ax[0].set_xticklabels(states.index)"
   ]
  },
  {
   "cell_type": "markdown",
   "metadata": {},
   "source": [
    "- The line plots are a little awkward because the points aren't connected in anyway"
   ]
  },
  {
   "cell_type": "code",
   "execution_count": null,
   "metadata": {},
   "outputs": [],
   "source": [
    "ax = states.plot(subplots=True, xticks=range(states.shape[0]), figsize=(20, 10), kind='bar')\n",
    "suppressing_output = ax[0].set_xticklabels(states.index)"
   ]
  },
  {
   "cell_type": "markdown",
   "metadata": {},
   "source": [
    "- Not bad!"
   ]
  }
 ],
 "metadata": {
  "kernelspec": {
   "display_name": "Python 3",
   "language": "python",
   "name": "python3"
  },
  "language_info": {
   "codemirror_mode": {
    "name": "ipython",
    "version": 3
   },
   "file_extension": ".py",
   "mimetype": "text/x-python",
   "name": "python",
   "nbconvert_exporter": "python",
   "pygments_lexer": "ipython3",
   "version": "3.7.3"
  }
 },
 "nbformat": 4,
 "nbformat_minor": 2
}
