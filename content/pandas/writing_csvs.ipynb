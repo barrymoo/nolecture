{
 "cells": [
  {
   "cell_type": "markdown",
   "metadata": {},
   "source": [
    "Writing Files\n",
    "---\n",
    "\n",
    "CSV files are a standard way to share data, one can write a `DataFrame` to a CSV file using the syntax:\n",
    "\n",
    "```python\n",
    "<df>.to_csv(<filename.csv>)\n",
    "```\n",
    "\n",
    "Notes:\n",
    "\n",
    "- The seperator, by default, is a comma. Try `sep=\"|\"` argument, use a '.bsv' ending\n",
    "- To not include the index, use `index=None`\n",
    "- To not include a header, use `header=None`\n",
    "\n",
    "### Tasks\n",
    "\n",
    "- Run the definitions cell\n",
    "- Write the `states` DataFrame to a file called \"intro.bsv\""
   ]
  },
  {
   "cell_type": "code",
   "execution_count": null,
   "metadata": {},
   "outputs": [],
   "source": [
    "# definitions\n",
    "states = pd.read_csv(\"states.csv\", index_col=0)"
   ]
  },
  {
   "cell_type": "code",
   "execution_count": null,
   "metadata": {},
   "outputs": [],
   "source": []
  }
 ],
 "metadata": {
  "kernelspec": {
   "display_name": "Python 3",
   "language": "python",
   "name": "python3"
  },
  "language_info": {
   "codemirror_mode": {
    "name": "ipython",
    "version": 3
   },
   "file_extension": ".py",
   "mimetype": "text/x-python",
   "name": "python",
   "nbconvert_exporter": "python",
   "pygments_lexer": "ipython3",
   "version": "3.7.3"
  }
 },
 "nbformat": 4,
 "nbformat_minor": 2
}
