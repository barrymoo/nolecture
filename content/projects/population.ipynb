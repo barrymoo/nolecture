{
 "cells": [
  {
   "cell_type": "markdown",
   "metadata": {},
   "source": [
    "Project: Population Analysis\n",
    "---\n",
    "\n",
    "Given the US Census information for 2016 and 2017 for each state (including DC and Puerto Rico) in CSV format. Use Python to determine:\n",
    "\n",
    "1. The average population for 2016 and 2017\n",
    "2. The state with the largest and smallest population\n",
    "\n",
    "### Why this problem?\n",
    "\n",
    "Yes, this is a relatively simple problem but it brings together a lot of what you learned today. Most importantly, you will need to determine an appropriate data structure to store the information. Knowing which data structure to use is the most important decision when analyzing data. An example, if you were given a person's full name and needed to find their phone number what would you use? Likely, you said phone book. Would you use a phone book if you were given someone's phone number?\n",
    "\n",
    "Most of the problems you will deal with are simply reading data files, doing some processing, and then spitting out some statistical result. Python is fantastic for this.\n",
    "\n",
    "### Tasks\n",
    "\n",
    "1. Open the data file \"states.csv\" using the `with` syntax\n",
    "    - Note: this is a proper CSV file which means it has a header on line 0\n",
    "2. Read the first line, there are 3 columns separated by commas\n",
    "    - Hint: print this line and think about how you want to store your data!\n",
    "3. Use a `for` loop to read the remaining lines and parse them into your data structure\n",
    "    - Hint: the function `int` can convert a string to an integer\n",
    "4. Generate the following information\n",
    "    - Average population for 2016 and 2017\n",
    "    - State with the largest population\n",
    "    - State with the smallest population\n",
    "        - Hints:\n",
    "            - `min`, `max`, and `sum` are built-in functions which operate on lists, test them\n",
    "            - A `mean` function exists, inside the `statistics` module, which operates similarly to the above functions\n",
    "            - Lists have an `index(<object>)` method to find a particular object's index\n",
    "5. Was the data structure you chose optimal? Could you rearrange it and make your life easier?"
   ]
  },
  {
   "cell_type": "code",
   "execution_count": null,
   "metadata": {},
   "outputs": [],
   "source": []
  },
  {
   "cell_type": "code",
   "execution_count": null,
   "metadata": {},
   "outputs": [],
   "source": []
  },
  {
   "cell_type": "code",
   "execution_count": null,
   "metadata": {},
   "outputs": [],
   "source": []
  },
  {
   "cell_type": "code",
   "execution_count": null,
   "metadata": {},
   "outputs": [],
   "source": []
  },
  {
   "cell_type": "code",
   "execution_count": null,
   "metadata": {},
   "outputs": [],
   "source": []
  },
  {
   "cell_type": "code",
   "execution_count": null,
   "metadata": {},
   "outputs": [],
   "source": []
  },
  {
   "cell_type": "code",
   "execution_count": null,
   "metadata": {},
   "outputs": [],
   "source": []
  }
 ],
 "metadata": {
  "kernelspec": {
   "display_name": "Python 3",
   "language": "python",
   "name": "python3"
  },
  "language_info": {
   "codemirror_mode": {
    "name": "ipython",
    "version": 3
   },
   "file_extension": ".py",
   "mimetype": "text/x-python",
   "name": "python",
   "nbconvert_exporter": "python",
   "pygments_lexer": "ipython3",
   "version": "3.7.0"
  }
 },
 "nbformat": 4,
 "nbformat_minor": 2
}
