{
 "cells": [
  {
   "cell_type": "markdown",
   "metadata": {},
   "source": [
    "Python Syntax\n",
    "---"
   ]
  },
  {
   "cell_type": "markdown",
   "metadata": {},
   "source": [
    "Comments\n",
    "---\n",
    "\n",
    "Lines beginning with `#` are completely ignored. Everything after `#` is ignored. Comments help increase the readability of code. In Jupyter, you can highlight blocks of code with the mouse and type `<Ctrl-l>` to comment or uncomment blocks of code."
   ]
  },
  {
   "cell_type": "code",
   "execution_count": null,
   "metadata": {},
   "outputs": [],
   "source": [
    "# print(1)\n",
    "print(1) # this line will print 1"
   ]
  },
  {
   "cell_type": "markdown",
   "metadata": {},
   "source": [
    "Whitespace\n",
    "---\n",
    "\n",
    "In Python, and unlike many programming languages, whitespace is important! Try running the following cell:"
   ]
  },
  {
   "cell_type": "code",
   "execution_count": null,
   "metadata": {},
   "outputs": [],
   "source": [
    "print(\"hello\")\n",
    " print(\"world\")"
   ]
  },
  {
   "cell_type": "markdown",
   "metadata": {},
   "source": [
    "Indentation\n",
    "---\n",
    "\n",
    "In this case, you have 2 options:"
   ]
  },
  {
   "cell_type": "code",
   "execution_count": null,
   "metadata": {},
   "outputs": [],
   "source": [
    " print(\"hello\")\n",
    " print(\"world\")"
   ]
  },
  {
   "cell_type": "code",
   "execution_count": null,
   "metadata": {},
   "outputs": [],
   "source": [
    "print(\"hello\")\n",
    "print(\"world\")"
   ]
  },
  {
   "cell_type": "markdown",
   "metadata": {},
   "source": [
    "Notes\n",
    "---\n",
    "\n",
    "```python\n",
    "print(\"hello\")\n",
    "print(\"world\")\n",
    "```\n",
    "\n",
    "The above is called a _block_ of code. All blocks must share the same indentation. Although you **can** put spaces in front of both lines and the code runs, it is strongly discouraged!\n",
    "\n",
    "- Rules of thumb:\n",
    "    - code blocks shouldn't have any leading space.\n",
    "    - nested code blocks should be indented by 4 spaces (we'll look at nested blocks later)"
   ]
  }
 ],
 "metadata": {
  "kernelspec": {
   "display_name": "Python 3",
   "language": "python",
   "name": "python3"
  },
  "language_info": {
   "codemirror_mode": {
    "name": "ipython",
    "version": 3
   },
   "file_extension": ".py",
   "mimetype": "text/x-python",
   "name": "python",
   "nbconvert_exporter": "python",
   "pygments_lexer": "ipython3",
   "version": "3.6.6"
  }
 },
 "nbformat": 4,
 "nbformat_minor": 2
}
