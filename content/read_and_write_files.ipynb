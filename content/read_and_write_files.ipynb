{
 "cells": [
  {
   "cell_type": "markdown",
   "metadata": {},
   "source": [
    "Reading and Writing Files\n",
    "---\n",
    "\n",
    "Turns out, we can use `open` to generate a file iterator. We can work on a file line by line and generate just the content into a list in memory (`strip` removes the newline character):\n",
    "\n",
    "```python\n",
    "lines = [line.strip() for line in open(<filename>)]\n",
    "```\n",
    "\n",
    "or, maybe you need process each line and write a new file (by default `'w'` overwrites the file):\n",
    "\n",
    "```python\n",
    "with open(<otherfile>, 'w') as f:\n",
    "    for line in open(<filename>):\n",
    "        f.write(<modify line in some way>) # Write doesn't append a newline automatically, therefore you may need to write a newline\n",
    "        f.write('\\n') # Or, on one line: f.write(\"{}\\n\".format(<modify line in some way>))\n",
    "```\n",
    "\n",
    "To append to a file use `open(<filename>, 'a')`."
   ]
  },
  {
   "cell_type": "code",
   "execution_count": null,
   "metadata": {},
   "outputs": [],
   "source": []
  },
  {
   "cell_type": "code",
   "execution_count": null,
   "metadata": {},
   "outputs": [],
   "source": []
  }
 ],
 "metadata": {
  "kernelspec": {
   "display_name": "Python 3",
   "language": "python",
   "name": "python3"
  },
  "language_info": {
   "codemirror_mode": {
    "name": "ipython",
    "version": 3
   },
   "file_extension": ".py",
   "mimetype": "text/x-python",
   "name": "python",
   "nbconvert_exporter": "python",
   "pygments_lexer": "ipython3",
   "version": "3.6.6"
  }
 },
 "nbformat": 4,
 "nbformat_minor": 2
}
