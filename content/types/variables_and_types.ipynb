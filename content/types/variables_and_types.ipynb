{
 "cells": [
  {
   "cell_type": "markdown",
   "metadata": {},
   "source": [
    "Variables\n",
    "---\n",
    "\n",
    "- Variables represent \"objects\" via unique \"names\"\n",
    "- Names represent a single object only\n",
    "    - The programmer is allowed to change the object a name represents\n",
    "- Variable and name are often used interchangably\n",
    "- Syntax: `<name> = <object>`\n",
    "- Example:"
   ]
  },
  {
   "cell_type": "code",
   "execution_count": null,
   "metadata": {},
   "outputs": [],
   "source": [
    "x = 1\n",
    "x"
   ]
  },
  {
   "cell_type": "markdown",
   "metadata": {},
   "source": [
    "- Above, `x` is a name and `1` is contained in an `int` object\n",
    "- `int` is the \"type\" of `x`\n",
    "\n",
    "Types\n",
    "---\n",
    "\n",
    "- Every object has a type, types:\n",
    "    - Allows Python to understand what can be done with, or to, an object\n",
    "    - Are dynamically assigned for you, i.e. `1` was automatically determined to be an `int`\n",
    "    - Can be determined with the following syntax: `type(<object>)`"
   ]
  },
  {
   "cell_type": "code",
   "execution_count": null,
   "metadata": {},
   "outputs": [],
   "source": [
    "x = 1\n",
    "type(x), type(1)"
   ]
  },
  {
   "cell_type": "markdown",
   "metadata": {},
   "source": [
    "Aside: Printing\n",
    "---\n",
    "\n",
    "There are many ways to print things in Python. I will show you 2:\n",
    "\n",
    "- Syntax: `print(<object-0>, <object-1>, ...)`"
   ]
  },
  {
   "cell_type": "code",
   "execution_count": null,
   "metadata": {},
   "outputs": [],
   "source": [
    "x = 1\n",
    "print(x)\n",
    "print(x, x)\n",
    "print(x, x, x)"
   ]
  },
  {
   "cell_type": "markdown",
   "metadata": {},
   "source": [
    "- Jupyter specific and will only print the last line of the cell\n",
    "    - Syntax: `<object-0>, <object-1>, ...`\n",
    "    - Example below will only print one thing!\n",
    "    - Output will look a little different than using `print` directly"
   ]
  },
  {
   "cell_type": "code",
   "execution_count": null,
   "metadata": {},
   "outputs": [],
   "source": [
    "x = 1\n",
    "x\n",
    "x, x\n",
    "x, x, x"
   ]
  },
  {
   "cell_type": "markdown",
   "metadata": {},
   "source": [
    "#### Tasks:\n",
    "\n",
    "1. Define a variable named `x` equal to `1`, print `x` and the type of `x`\n",
    "    - Is `x` a name or an object?\n",
    "    - Is `1` a name or an object?\n",
    "2. Define a variable named `y` equal to `\"a\"`, print `y` and the type of `y`\n",
    "3. Define a variable named `z` equal to `1.0`, print `z` and the type of `z`\n",
    "4. Define a variable named `b` equal to `True`, print `b` and the type of `b`\n",
    "5. If you used the same `print` style for 1 - 4, try the other style with 4."
   ]
  },
  {
   "cell_type": "code",
   "execution_count": null,
   "metadata": {},
   "outputs": [],
   "source": []
  },
  {
   "cell_type": "code",
   "execution_count": null,
   "metadata": {},
   "outputs": [],
   "source": []
  },
  {
   "cell_type": "code",
   "execution_count": null,
   "metadata": {},
   "outputs": [],
   "source": []
  },
  {
   "cell_type": "code",
   "execution_count": null,
   "metadata": {},
   "outputs": [],
   "source": []
  },
  {
   "cell_type": "code",
   "execution_count": null,
   "metadata": {},
   "outputs": [],
   "source": []
  },
  {
   "cell_type": "markdown",
   "metadata": {},
   "source": [
    "Aside: Data Persistence\n",
    "---\n",
    "\n",
    "- Because you ran the cells above, the names can be accessed from anywhere in the notebook. Try printing the variable `b` from above. Is it the same?"
   ]
  },
  {
   "cell_type": "code",
   "execution_count": null,
   "metadata": {},
   "outputs": [],
   "source": []
  }
 ],
 "metadata": {
  "kernelspec": {
   "display_name": "Python 3",
   "language": "python",
   "name": "python3"
  },
  "language_info": {
   "codemirror_mode": {
    "name": "ipython",
    "version": 3
   },
   "file_extension": ".py",
   "mimetype": "text/x-python",
   "name": "python",
   "nbconvert_exporter": "python",
   "pygments_lexer": "ipython3",
   "version": "3.7.0"
  }
 },
 "nbformat": 4,
 "nbformat_minor": 2
}
