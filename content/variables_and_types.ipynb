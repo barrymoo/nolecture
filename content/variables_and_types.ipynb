{
 "cells": [
  {
   "cell_type": "markdown",
   "metadata": {},
   "source": [
    "Variables and Types\n",
    "---\n",
    "\n",
    "- Defining variables is as simple as using the assignment operator `<name> =`\n",
    "- Determine the type of the object with `type(<object>)`\n",
    "- You can write to output using `print(<something>)`\n",
    "- Write commands on seperate lines:"
   ]
  },
  {
   "cell_type": "code",
   "execution_count": null,
   "metadata": {},
   "outputs": [],
   "source": [
    "x = 1\n",
    "print(x)"
   ]
  },
  {
   "cell_type": "markdown",
   "metadata": {},
   "source": [
    "Before the \"Tasks\"\n",
    "---\n",
    "\n",
    "There are 3 primary ways to print to output in Python (demonstrated above).\n",
    "\n",
    "1. `print(<something>, <other>)`: separate variables by commas\n",
    "2. Jupyter specific: The final line of a cell will print whatever it returned. In the above code cell you could have wrote the below (note the difference from above!):"
   ]
  },
  {
   "cell_type": "code",
   "execution_count": null,
   "metadata": {},
   "outputs": [],
   "source": [
    "x = 1\n",
    "x"
   ]
  },
  {
   "cell_type": "markdown",
   "metadata": {},
   "source": [
    "- Note that with \"3.\" you can only print the final item in the cell. This promotes separation of work (which is a good thing!)"
   ]
  },
  {
   "cell_type": "markdown",
   "metadata": {},
   "source": [
    "#### Tasks:\n",
    "\n",
    "1. Define a variable called `x` equal to `1`, print `x` and the type of `x`\n",
    "2. Define a variable called `y` equal to `\"a\"`, print `y` and the type of `y`\n",
    "3. Define a variable called `z` equal to `1.0`, print `z` and the type of `z`\n",
    "4. Define a variable called `b` equal to `True`, print `b` and the type of `b`\n",
    "5. Try the different style of `print` statements"
   ]
  },
  {
   "cell_type": "code",
   "execution_count": null,
   "metadata": {},
   "outputs": [],
   "source": []
  },
  {
   "cell_type": "code",
   "execution_count": null,
   "metadata": {},
   "outputs": [],
   "source": []
  },
  {
   "cell_type": "code",
   "execution_count": null,
   "metadata": {},
   "outputs": [],
   "source": []
  },
  {
   "cell_type": "code",
   "execution_count": null,
   "metadata": {},
   "outputs": [],
   "source": []
  },
  {
   "cell_type": "code",
   "execution_count": null,
   "metadata": {},
   "outputs": [],
   "source": []
  },
  {
   "cell_type": "markdown",
   "metadata": {},
   "source": [
    "### Notes\n",
    "\n",
    "- Objects:\n",
    "    - Everything in python is an object\n",
    "    - Objects are composed of methods which can be accessed using `.`\n",
    "        - i.e. `format` is called a method of the `str` (string) object\n",
    "        - You can see all of the methods of `str`:\n",
    "            - Visit the documentation: [String Methods](https://docs.python.org/3/library/stdtypes.html#string-methods)\n",
    "            - Or, type `y.<Tab>` to see the names, many are self explanatory\n",
    "- Variables persist between cells, i.e. `x` should still return `1`. Does it?"
   ]
  },
  {
   "cell_type": "code",
   "execution_count": null,
   "metadata": {},
   "outputs": [],
   "source": []
  }
 ],
 "metadata": {
  "kernelspec": {
   "display_name": "Python 3",
   "language": "python",
   "name": "python3"
  },
  "language_info": {
   "codemirror_mode": {
    "name": "ipython",
    "version": 3
   },
   "file_extension": ".py",
   "mimetype": "text/x-python",
   "name": "python",
   "nbconvert_exporter": "python",
   "pygments_lexer": "ipython3",
   "version": "3.6.6"
  }
 },
 "nbformat": 4,
 "nbformat_minor": 2
}
