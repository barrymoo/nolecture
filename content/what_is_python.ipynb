{
 "cells": [
  {
   "cell_type": "markdown",
   "metadata": {},
   "source": [
    "What is Python\n",
    "---\n",
    "\n",
    "- Python is an interpreted programming language. This means that the lines you write in this notebook are read by an _interpreter_ to convert what you wrote to elementary pre-compiled functions run on the computer. This happens every time you run a cell. \n",
    "- This is opposed to compiled languages which are interpreted (_compiled_) before they are run.\n",
    "- It is a lot more difficult to use compiled languages inside Jupyter Notebooks."
   ]
  }
 ],
 "metadata": {
  "kernelspec": {
   "display_name": "Python 3",
   "language": "python",
   "name": "python3"
  },
  "language_info": {
   "codemirror_mode": {
    "name": "ipython",
    "version": 3
   },
   "file_extension": ".py",
   "mimetype": "text/x-python",
   "name": "python",
   "nbconvert_exporter": "python",
   "pygments_lexer": "ipython3",
   "version": "3.6.6"
  }
 },
 "nbformat": 4,
 "nbformat_minor": 2
}
